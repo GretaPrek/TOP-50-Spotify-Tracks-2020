{
 "cells": [
  {
   "cell_type": "markdown",
   "id": "f566d3dd-2a7b-43fd-a119-598053db340e",
   "metadata": {},
   "source": [
    "<h1>TOP 50 Spotify Tracks 2020</h1>\n",
    "Data Processing with NumPy and Pandas project\n"
   ]
  },
  {
   "cell_type": "markdown",
   "id": "da2ef357-27a3-4357-bdd8-99449167a5fb",
   "metadata": {},
   "source": [
    "<h2>Introduction</h2>\n",
    "Welcome to Turing College Data Science program Sprint3 project. Project dedicated to practice working with data from Kaggle, performing basic Explanatory Data Analysis(EDA), performing queries and filtering data using Pandas. Objectives and requirements are provided in the README file.\n",
    "\n",
    "__Structure of coding and analysis of this document__\n",
    "1. Section 1. Preparing data\n",
    "2. Section 2. EDA with 18 question\n",
    "3. Section 3. Feature comparisson with different genres\n",
    "\n",
    "EDA section provides questions and answers. There you can find most popular artist and albums. Filtering danceability and loudness scores. Longest and shortest tracks. Features correlation analysis.\n",
    "\n",
    "In the end is summary."
   ]
  },
  {
   "cell_type": "markdown",
   "id": "1c237d8b-1771-4ca8-89df-dfea5db6d38d",
   "metadata": {},
   "source": [
    "<h3>Section 1. Preparing data</h3>"
   ]
  },
  {
   "cell_type": "markdown",
   "id": "667e12f9-56a2-4803-aa69-84e4ce884792",
   "metadata": {},
   "source": [
    "<h4>Load the data using Pandas</h4>\n",
    "Importing csv, numpy and pandas libraries. Reading a csv file with 50 TOP Spotify tracks 2020.\n",
    "First 5 rows provided from data."
   ]
  },
  {
   "cell_type": "code",
   "execution_count": 1,
   "id": "d3d26977-f020-45ec-9d04-e7db1f70f6b1",
   "metadata": {},
   "outputs": [
    {
     "data": {
      "text/html": [
       "<div>\n",
       "<style scoped>\n",
       "    .dataframe tbody tr th:only-of-type {\n",
       "        vertical-align: middle;\n",
       "    }\n",
       "\n",
       "    .dataframe tbody tr th {\n",
       "        vertical-align: top;\n",
       "    }\n",
       "\n",
       "    .dataframe thead th {\n",
       "        text-align: right;\n",
       "    }\n",
       "</style>\n",
       "<table border=\"1\" class=\"dataframe\">\n",
       "  <thead>\n",
       "    <tr style=\"text-align: right;\">\n",
       "      <th></th>\n",
       "      <th>artist</th>\n",
       "      <th>album</th>\n",
       "      <th>track_name</th>\n",
       "      <th>track_id</th>\n",
       "      <th>energy</th>\n",
       "      <th>danceability</th>\n",
       "      <th>key</th>\n",
       "      <th>loudness</th>\n",
       "      <th>acousticness</th>\n",
       "      <th>speechiness</th>\n",
       "      <th>instrumentalness</th>\n",
       "      <th>liveness</th>\n",
       "      <th>valence</th>\n",
       "      <th>tempo</th>\n",
       "      <th>duration_ms</th>\n",
       "      <th>genre</th>\n",
       "    </tr>\n",
       "  </thead>\n",
       "  <tbody>\n",
       "    <tr>\n",
       "      <th>0</th>\n",
       "      <td>The Weeknd</td>\n",
       "      <td>After Hours</td>\n",
       "      <td>Blinding Lights</td>\n",
       "      <td>0VjIjW4GlUZAMYd2vXMi3b</td>\n",
       "      <td>0.730</td>\n",
       "      <td>0.514</td>\n",
       "      <td>1</td>\n",
       "      <td>-5.934</td>\n",
       "      <td>0.00146</td>\n",
       "      <td>0.0598</td>\n",
       "      <td>0.000095</td>\n",
       "      <td>0.0897</td>\n",
       "      <td>0.334</td>\n",
       "      <td>171.005</td>\n",
       "      <td>200040</td>\n",
       "      <td>R&amp;B/Soul</td>\n",
       "    </tr>\n",
       "    <tr>\n",
       "      <th>1</th>\n",
       "      <td>Tones And I</td>\n",
       "      <td>Dance Monkey</td>\n",
       "      <td>Dance Monkey</td>\n",
       "      <td>1rgnBhdG2JDFTbYkYRZAku</td>\n",
       "      <td>0.593</td>\n",
       "      <td>0.825</td>\n",
       "      <td>6</td>\n",
       "      <td>-6.401</td>\n",
       "      <td>0.68800</td>\n",
       "      <td>0.0988</td>\n",
       "      <td>0.000161</td>\n",
       "      <td>0.1700</td>\n",
       "      <td>0.540</td>\n",
       "      <td>98.078</td>\n",
       "      <td>209755</td>\n",
       "      <td>Alternative/Indie</td>\n",
       "    </tr>\n",
       "    <tr>\n",
       "      <th>2</th>\n",
       "      <td>Roddy Ricch</td>\n",
       "      <td>Please Excuse Me For Being Antisocial</td>\n",
       "      <td>The Box</td>\n",
       "      <td>0nbXyq5TXYPCO7pr3N8S4I</td>\n",
       "      <td>0.586</td>\n",
       "      <td>0.896</td>\n",
       "      <td>10</td>\n",
       "      <td>-6.687</td>\n",
       "      <td>0.10400</td>\n",
       "      <td>0.0559</td>\n",
       "      <td>0.000000</td>\n",
       "      <td>0.7900</td>\n",
       "      <td>0.642</td>\n",
       "      <td>116.971</td>\n",
       "      <td>196653</td>\n",
       "      <td>Hip-Hop/Rap</td>\n",
       "    </tr>\n",
       "    <tr>\n",
       "      <th>3</th>\n",
       "      <td>SAINt JHN</td>\n",
       "      <td>Roses (Imanbek Remix)</td>\n",
       "      <td>Roses - Imanbek Remix</td>\n",
       "      <td>2Wo6QQD1KMDWeFkkjLqwx5</td>\n",
       "      <td>0.721</td>\n",
       "      <td>0.785</td>\n",
       "      <td>8</td>\n",
       "      <td>-5.457</td>\n",
       "      <td>0.01490</td>\n",
       "      <td>0.0506</td>\n",
       "      <td>0.004320</td>\n",
       "      <td>0.2850</td>\n",
       "      <td>0.894</td>\n",
       "      <td>121.962</td>\n",
       "      <td>176219</td>\n",
       "      <td>Dance/Electronic</td>\n",
       "    </tr>\n",
       "    <tr>\n",
       "      <th>4</th>\n",
       "      <td>Dua Lipa</td>\n",
       "      <td>Future Nostalgia</td>\n",
       "      <td>Don't Start Now</td>\n",
       "      <td>3PfIrDoz19wz7qK7tYeu62</td>\n",
       "      <td>0.793</td>\n",
       "      <td>0.793</td>\n",
       "      <td>11</td>\n",
       "      <td>-4.521</td>\n",
       "      <td>0.01230</td>\n",
       "      <td>0.0830</td>\n",
       "      <td>0.000000</td>\n",
       "      <td>0.0951</td>\n",
       "      <td>0.679</td>\n",
       "      <td>123.950</td>\n",
       "      <td>183290</td>\n",
       "      <td>Nu-disco</td>\n",
       "    </tr>\n",
       "  </tbody>\n",
       "</table>\n",
       "</div>"
      ],
      "text/plain": [
       "        artist                                  album             track_name  \\\n",
       "0   The Weeknd                            After Hours        Blinding Lights   \n",
       "1  Tones And I                           Dance Monkey           Dance Monkey   \n",
       "2  Roddy Ricch  Please Excuse Me For Being Antisocial                The Box   \n",
       "3    SAINt JHN                  Roses (Imanbek Remix)  Roses - Imanbek Remix   \n",
       "4     Dua Lipa                       Future Nostalgia        Don't Start Now   \n",
       "\n",
       "                 track_id  energy  danceability  key  loudness  acousticness  \\\n",
       "0  0VjIjW4GlUZAMYd2vXMi3b   0.730         0.514    1    -5.934       0.00146   \n",
       "1  1rgnBhdG2JDFTbYkYRZAku   0.593         0.825    6    -6.401       0.68800   \n",
       "2  0nbXyq5TXYPCO7pr3N8S4I   0.586         0.896   10    -6.687       0.10400   \n",
       "3  2Wo6QQD1KMDWeFkkjLqwx5   0.721         0.785    8    -5.457       0.01490   \n",
       "4  3PfIrDoz19wz7qK7tYeu62   0.793         0.793   11    -4.521       0.01230   \n",
       "\n",
       "   speechiness  instrumentalness  liveness  valence    tempo  duration_ms  \\\n",
       "0       0.0598          0.000095    0.0897    0.334  171.005       200040   \n",
       "1       0.0988          0.000161    0.1700    0.540   98.078       209755   \n",
       "2       0.0559          0.000000    0.7900    0.642  116.971       196653   \n",
       "3       0.0506          0.004320    0.2850    0.894  121.962       176219   \n",
       "4       0.0830          0.000000    0.0951    0.679  123.950       183290   \n",
       "\n",
       "               genre  \n",
       "0           R&B/Soul  \n",
       "1  Alternative/Indie  \n",
       "2        Hip-Hop/Rap  \n",
       "3   Dance/Electronic  \n",
       "4           Nu-disco  "
      ]
     },
     "execution_count": 1,
     "metadata": {},
     "output_type": "execute_result"
    }
   ],
   "source": [
    "import csv\n",
    "import pandas as pd\n",
    "import numpy as np\n",
    "\n",
    "csv_path = \"spotifytoptracks.csv\"\n",
    "df = pd.read_csv(csv_path, index_col=0)\n",
    "df.head()"
   ]
  },
  {
   "cell_type": "markdown",
   "id": "502d847c-2348-4e32-ba85-6fd3e63823bf",
   "metadata": {},
   "source": [
    "<h4>Data cleaning.</h4>Missing values, removing duplicate samples and features, handling outliers.\n"
   ]
  },
  {
   "cell_type": "markdown",
   "id": "8562f79d-8897-4976-8f05-f0283418cd2b",
   "metadata": {},
   "source": [
    "<h5>Missing values</h5>\n",
    "No missing values found so no further actions are needed."
   ]
  },
  {
   "cell_type": "code",
   "execution_count": 2,
   "id": "af272fd9-dd9f-499b-b6dd-f23ca79c94cc",
   "metadata": {},
   "outputs": [
    {
     "data": {
      "text/plain": [
       "artist              0\n",
       "album               0\n",
       "track_name          0\n",
       "track_id            0\n",
       "energy              0\n",
       "danceability        0\n",
       "key                 0\n",
       "loudness            0\n",
       "acousticness        0\n",
       "speechiness         0\n",
       "instrumentalness    0\n",
       "liveness            0\n",
       "valence             0\n",
       "tempo               0\n",
       "duration_ms         0\n",
       "genre               0\n",
       "dtype: int64"
      ]
     },
     "execution_count": 2,
     "metadata": {},
     "output_type": "execute_result"
    }
   ],
   "source": [
    "df.isnull().sum() # Missing values count"
   ]
  },
  {
   "cell_type": "markdown",
   "id": "d907f4cc-6cb6-4b44-9a6c-1ac9e6444c9c",
   "metadata": {},
   "source": [
    "<h5>Duplicates</h5>\n",
    "All rows doesn't have duplicates. No additional actions."
   ]
  },
  {
   "cell_type": "code",
   "execution_count": 3,
   "id": "bffefb9e-372d-456b-b8c6-b3b7b23a1e20",
   "metadata": {},
   "outputs": [
    {
     "name": "stdout",
     "output_type": "stream",
     "text": [
      "Number of Duplicates:  0\n"
     ]
    }
   ],
   "source": [
    "duplicates = df.duplicated()\n",
    "sum_duplicates = duplicates.sum()\n",
    "sum_duplicates = duplicates.size - duplicates.value_counts()[False]\n",
    "print(\"Number of Duplicates: \", sum_duplicates)"
   ]
  },
  {
   "cell_type": "markdown",
   "id": "53ffe1a4-2061-4963-854d-233f8f881a08",
   "metadata": {},
   "source": [
    "<h5>Outliers</h5>\n",
    "Detected 5 columns with outliers. Outliers values provided in code ouput below.\n",
    "In regard this project scope and relatively small sample size outliers will remain in the data.\n",
    "\n",
    "Columns with Outliers:\n",
    "loudness\n",
    "speechiness\n",
    "instrumentalness\n",
    "liveness\n",
    "durati\n",
    "ed:\n",
    "49    312820\n",
    "Name: duration_ms, dtype: int64"
   ]
  },
  {
   "cell_type": "code",
   "execution_count": 4,
   "id": "a6d3772e-9389-46ee-8fc7-693eed821e97",
   "metadata": {},
   "outputs": [
    {
     "name": "stdout",
     "output_type": "stream",
     "text": [
      "\n",
      "Column: energy\n",
      "No outliers detected.\n",
      "\n",
      "Column: danceability\n",
      "No outliers detected.\n",
      "\n",
      "Column: key\n",
      "No outliers detected.\n",
      "\n",
      "Column: loudness\n",
      "Outliers detected:\n",
      "24   -14.454\n",
      "Name: loudness, dtype: float64\n",
      "\n",
      "Column: acousticness\n",
      "No outliers detected.\n",
      "\n",
      "Column: speechiness\n",
      "Outliers detected:\n",
      "19    0.487\n",
      "Name: speechiness, dtype: float64\n",
      "\n",
      "Column: instrumentalness\n",
      "Outliers detected:\n",
      "24    0.657\n",
      "Name: instrumentalness, dtype: float64\n",
      "\n",
      "Column: liveness\n",
      "Outliers detected:\n",
      "2     0.790\n",
      "41    0.792\n",
      "Name: liveness, dtype: float64\n",
      "\n",
      "Column: valence\n",
      "No outliers detected.\n",
      "\n",
      "Column: tempo\n",
      "No outliers detected.\n",
      "\n",
      "Column: duration_ms\n",
      "Outliers detected:\n",
      "49    312820\n",
      "Name: duration_ms, dtype: int64\n",
      "\n",
      "Summary: Columns with Outliers:\n",
      "loudness\n",
      "speechiness\n",
      "instrumentalness\n",
      "liveness\n",
      "duration_ms\n"
     ]
    }
   ],
   "source": [
    "from scipy import stats\n",
    "\n",
    "def find_outliers(column, method='zscore', threshold=3):\n",
    "  \"\"\"\n",
    "  This function detects outliers in a numerical column using a specified method.\n",
    "\n",
    "  Args:\n",
    "      column (pandas.Series): The numerical column to analyze.\n",
    "      method (str, optional): The method for outlier detection. Defaults to 'zscore'.\n",
    "          - 'zscore': Uses z-scores (standard deviations from the mean).\n",
    "          - 'iqr': Uses Interquartile Range (IQR).\n",
    "      threshold (float, optional): The threshold for outlier detection. Defaults to 3.\n",
    "          - For z-scores, values with absolute value exceeding the threshold are considered outliers.\n",
    "          - For IQR, values below Q1 - threshold * IQR or above Q3 + threshold * IQR are considered outliers.\n",
    "\n",
    "  Returns:\n",
    "      pandas.Series: A Series containing True for outliers and False for non-outliers.\n",
    "  \"\"\"\n",
    "  if method == 'zscore':\n",
    "    z_scores = stats.zscore(column)\n",
    "    return np.abs(z_scores) > threshold\n",
    "  elif method == 'iqr':\n",
    "    q1 = column.quantile(0.25)\n",
    "    q3 = column.quantile(0.75)\n",
    "    iqr = q3 - q1\n",
    "    return (column < (q1 - threshold * iqr)) | (column > (q3 + threshold * iqr))\n",
    "  else:\n",
    "    raise ValueError(\"Invalid method. Choose 'zscore' or 'iqr'.\")\n",
    "\n",
    "\n",
    "numerical_columns = df.select_dtypes(include=['number'])\n",
    "\n",
    "columns_with_outliers = []\n",
    "\n",
    "for col in numerical_columns:\n",
    "  # Detect outliers using z-scores\n",
    "  outliers = find_outliers(df[col], method='zscore')\n",
    "\n",
    "  # Track columns with outliers\n",
    "  if outliers.any():\n",
    "    columns_with_outliers.append(col)\n",
    "\n",
    "  # Print results for the current column\n",
    "  print(f\"\\nColumn: {col}\")\n",
    "  if outliers.any():\n",
    "    print(\"Outliers detected:\")\n",
    "    print(df[col][outliers])  # Print rows with outliers in the current column\n",
    "  else:\n",
    "    print(\"No outliers detected.\")\n",
    "\n",
    "# Print summary of columns with outliers\n",
    "if columns_with_outliers:\n",
    "  print(\"\\nSummary: Columns with Outliers:\")\n",
    "  for col in columns_with_outliers:\n",
    "    print(col)\n",
    "else:\n",
    "  print(\"\\nSummary: No outliers detected in any numerical columns.\")"
   ]
  },
  {
   "cell_type": "markdown",
   "id": "8658326a-c72c-44bb-a65d-066f29729e28",
   "metadata": {},
   "source": [
    "__<h3>Section 2. EDA with 21 question</h3>__\n",
    "1. How many observations are there in this dataset?\n",
    "2. \tHow many features this dataset has\n",
    "3. Which of the features are categorical?\n",
    "4. Which of the features are numeric?\n",
    "5. Are there any artists that have more than 1 popular track? If yes, which and how many?\n",
    "6. Who was the most popular artist?\n",
    "7. How many artists in total have their songs in the top 50?\n",
    "8. Are there any albums that have more than 1 popular track? If yes, which and how many?\n",
    "9. How many albums in total have their songs in the top 50?\n",
    "10. Which tracks have a danceability score above 0.7?\n",
    "11. Which tracks have a danceability score below 0.4?\n",
    "12. Which tracks have their loudnes above -5?\n",
    "13. Which tracks have their loudness below -8?\n",
    "14. Which track is the longest?\n",
    "15. Which track is the shortest?\n",
    "16. Which genre is the most popular?\n",
    "17. Which genres have just one song on the top 50?\n",
    "18. How many genres in total are represented in the top 50?\n",
    "19. Which features are strongly positively correlated?\n",
    "20. Which features are strongly negatively correlated?\n",
    "21. Which features are not correlated?\n",
    "\n",
    "\n",
    " are not correlated?"
   ]
  },
  {
   "cell_type": "markdown",
   "id": "a158fb53-827f-4df4-b79a-14764cf0c982",
   "metadata": {},
   "source": [
    "1. How many observations are there in this dataset?"
   ]
  },
  {
   "cell_type": "code",
   "execution_count": 5,
   "id": "e25a3fd8-ae54-4dc2-818e-f36fc4acbc7f",
   "metadata": {},
   "outputs": [
    {
     "name": "stdout",
     "output_type": "stream",
     "text": [
      "The DataFrame has 50 rows.\n"
     ]
    }
   ],
   "source": [
    "# 1. How many observations are there in this dataset?\n",
    "df.count()\n",
    "row_count = len(df)\n",
    "print(f'The DataFrame has {row_count} rows.')"
   ]
  },
  {
   "cell_type": "markdown",
   "id": "d83c845a-3667-4ed3-b5a1-601f4f4df493",
   "metadata": {},
   "source": [
    "2. How many features this dataset has?"
   ]
  },
  {
   "cell_type": "code",
   "execution_count": 6,
   "id": "50e77187-bc8b-4db4-b963-d2c875738c0c",
   "metadata": {},
   "outputs": [
    {
     "name": "stdout",
     "output_type": "stream",
     "text": [
      "This dataset has 16 features\n"
     ]
    }
   ],
   "source": [
    "#2\tHow many features this dataset has?\n",
    "feature_count = len(df.columns)\n",
    "print(f\"This dataset has {feature_count} features\")\n"
   ]
  },
  {
   "cell_type": "markdown",
   "id": "b634bcc1-5796-4b3a-a8d5-e09329db5f80",
   "metadata": {},
   "source": [
    "3. Which of the features are categorical?"
   ]
  },
  {
   "cell_type": "code",
   "execution_count": 7,
   "id": "a5b904e5-5a54-4b5e-91ed-962b3b87b6e2",
   "metadata": {},
   "outputs": [
    {
     "name": "stdout",
     "output_type": "stream",
     "text": [
      "Categorical features: ['artist', 'album', 'track_name', 'track_id', 'genre']\n"
     ]
    }
   ],
   "source": [
    "# 3. Which of the features are categorical?\n",
    "\n",
    "categorical_features = [col for col in df.columns if df[col].dtypes == object]\n",
    "print(\"Categorical features:\", categorical_features)\n"
   ]
  },
  {
   "cell_type": "markdown",
   "id": "f3febfe0-becd-47c0-ac31-bc16b516efac",
   "metadata": {},
   "source": [
    "4. Which of the features are numeric?"
   ]
  },
  {
   "cell_type": "code",
   "execution_count": 8,
   "id": "fd26dc88-328d-4fca-b6c5-d30e81fddd10",
   "metadata": {},
   "outputs": [
    {
     "name": "stdout",
     "output_type": "stream",
     "text": [
      "Numerical Features: ['energy', 'danceability', 'key', 'loudness', 'acousticness', 'speechiness', 'instrumentalness', 'liveness', 'valence', 'tempo', 'duration_ms']\n"
     ]
    }
   ],
   "source": [
    "# 4. Which of the features are numeric?\n",
    "# Select columns with numeric data types\n",
    "numerical_features = df.select_dtypes(include=[np.number])  # Import numpy as np\n",
    "\n",
    "print(\"Numerical Features:\", numerical_features.columns.tolist())\n"
   ]
  },
  {
   "cell_type": "markdown",
   "id": "64beddb4-9c40-4400-9ab9-f7d772eb50c4",
   "metadata": {},
   "source": [
    "5. Are there any artists that have more than 1 popular track? If yes, which and how many?"
   ]
  },
  {
   "cell_type": "code",
   "execution_count": 9,
   "id": "9fe34a69-9d83-4b7b-9dc1-b800e06acc5c",
   "metadata": {},
   "outputs": [
    {
     "name": "stdout",
     "output_type": "stream",
     "text": [
      "artist\n",
      "Billie Eilish    3\n",
      "Dua Lipa         3\n",
      "Travis Scott     3\n",
      "Justin Bieber    2\n",
      "Harry Styles     2\n",
      "Lewis Capaldi    2\n",
      "Post Malone      2\n",
      "Name: count, dtype: int64\n"
     ]
    }
   ],
   "source": [
    "# 5. Are there any artists that have more than 1 popular track? If yes, which and how many?\n",
    "count_popular_artists = df['artist'].value_counts()\n",
    "print(count_popular_artists[count_popular_artists > 1])  \n"
   ]
  },
  {
   "cell_type": "markdown",
   "id": "2e6fd721-dbcb-4b3c-9e61-a9b78d31c4d5",
   "metadata": {},
   "source": [
    "6. Who was the most popular artist?"
   ]
  },
  {
   "cell_type": "code",
   "execution_count": 10,
   "id": "0a2f4eea-19b6-4930-938a-51a53454dacd",
   "metadata": {},
   "outputs": [
    {
     "name": "stdout",
     "output_type": "stream",
     "text": [
      "Most popular artists:\n",
      " artist\n",
      "Billie Eilish    3\n",
      "Dua Lipa         3\n",
      "Travis Scott     3\n",
      "Name: count, dtype: int64\n"
     ]
    }
   ],
   "source": [
    "# 6. Who was the most popular artist?\n",
    "most_popular_artists = count_popular_artists[count_popular_artists == count_popular_artists.max()]\n",
    "print(\"Most popular artists:\\n\", most_popular_artists)"
   ]
  },
  {
   "cell_type": "markdown",
   "id": "cf14c130-ee15-460c-888b-bcc1b0c4f9ca",
   "metadata": {},
   "source": [
    "7. How many artists in total have their songs in the top 50?"
   ]
  },
  {
   "cell_type": "code",
   "execution_count": 11,
   "id": "935b61f2-e44b-40fd-a42a-8f5a62e5eff7",
   "metadata": {},
   "outputs": [
    {
     "name": "stdout",
     "output_type": "stream",
     "text": [
      "Total number of artists who have their songs in the top 50 is:  40\n"
     ]
    }
   ],
   "source": [
    "# 7. How many artists in total have their songs in the top 50?\n",
    "#counting unique artists names\n",
    "total_artists_in_top50 = count_popular_artists.index.nunique()\n",
    "\n",
    "print(\"Total number of artists who have their songs in the top 50 is: \", total_artists_in_top50)\n"
   ]
  },
  {
   "cell_type": "markdown",
   "id": "577f990d-822f-4d4b-8a95-e43e9dd2849e",
   "metadata": {},
   "source": [
    "8. Are there any albums that have more than 1 popular track? If yes, which and how many?"
   ]
  },
  {
   "cell_type": "code",
   "execution_count": 12,
   "id": "6c1ba3d2-a40a-43b7-ae0e-79ef867eb10b",
   "metadata": {},
   "outputs": [
    {
     "name": "stdout",
     "output_type": "stream",
     "text": [
      "Albums that have more than 1 popular track: \n",
      " album\n",
      "Future Nostalgia        3\n",
      "Hollywood's Bleeding    2\n",
      "Fine Line               2\n",
      "Changes                 2\n",
      "Name: count, dtype: int64\n"
     ]
    }
   ],
   "source": [
    "# 8. Are there any albums that have more than 1 popular track? If yes, which and how many?\n",
    "albums = df['album'].value_counts()\n",
    "albums_with_more_than1_track = albums[albums > 1]\n",
    "print(\"Albums that have more than 1 popular track: \\n\", albums_with_more_than1_track)\n"
   ]
  },
  {
   "cell_type": "markdown",
   "id": "8f6313b5-8537-4d7e-9b82-88e1f921ee89",
   "metadata": {},
   "source": [
    "9. How many albums in total have their songs in the top 50?"
   ]
  },
  {
   "cell_type": "code",
   "execution_count": 13,
   "id": "e7f51ed0-ac0f-44ae-ba0d-499394234617",
   "metadata": {},
   "outputs": [
    {
     "name": "stdout",
     "output_type": "stream",
     "text": [
      "Total albums in top 50: \n",
      " 45\n"
     ]
    }
   ],
   "source": [
    "# 9. How many albums in total have their songs in the top 50?\n",
    "total_albums_in_top50 = albums.index.nunique()\n",
    "print(\"Total albums in top 50: \\n\", total_albums_in_top50)"
   ]
  },
  {
   "cell_type": "markdown",
   "id": "0af53041-0602-4863-bf66-31a364c0a859",
   "metadata": {},
   "source": [
    "10. Which tracks have a danceability score above 0.7?"
   ]
  },
  {
   "cell_type": "code",
   "execution_count": 37,
   "id": "131c31b5-d023-4c51-b582-d5eff41b9157",
   "metadata": {},
   "outputs": [
    {
     "name": "stdout",
     "output_type": "stream",
     "text": [
      "Tracks with danceability above 0.7:\n"
     ]
    },
    {
     "data": {
      "text/html": [
       "<div>\n",
       "<style scoped>\n",
       "    .dataframe tbody tr th:only-of-type {\n",
       "        vertical-align: middle;\n",
       "    }\n",
       "\n",
       "    .dataframe tbody tr th {\n",
       "        vertical-align: top;\n",
       "    }\n",
       "\n",
       "    .dataframe thead th {\n",
       "        text-align: right;\n",
       "    }\n",
       "</style>\n",
       "<table border=\"1\" class=\"dataframe\">\n",
       "  <thead>\n",
       "    <tr style=\"text-align: right;\">\n",
       "      <th></th>\n",
       "      <th>track_name</th>\n",
       "      <th>danceability</th>\n",
       "    </tr>\n",
       "  </thead>\n",
       "  <tbody>\n",
       "    <tr>\n",
       "      <th>27</th>\n",
       "      <td>WAP (feat. Megan Thee Stallion)</td>\n",
       "      <td>0.935</td>\n",
       "    </tr>\n",
       "    <tr>\n",
       "      <th>2</th>\n",
       "      <td>The Box</td>\n",
       "      <td>0.896</td>\n",
       "    </tr>\n",
       "    <tr>\n",
       "      <th>39</th>\n",
       "      <td>Ride It</td>\n",
       "      <td>0.880</td>\n",
       "    </tr>\n",
       "    <tr>\n",
       "      <th>28</th>\n",
       "      <td>Sunday Best</td>\n",
       "      <td>0.878</td>\n",
       "    </tr>\n",
       "    <tr>\n",
       "      <th>33</th>\n",
       "      <td>Supalonely (feat. Gus Dapperton)</td>\n",
       "      <td>0.862</td>\n",
       "    </tr>\n",
       "    <tr>\n",
       "      <th>40</th>\n",
       "      <td>goosebumps</td>\n",
       "      <td>0.841</td>\n",
       "    </tr>\n",
       "    <tr>\n",
       "      <th>49</th>\n",
       "      <td>SICKO MODE</td>\n",
       "      <td>0.834</td>\n",
       "    </tr>\n",
       "    <tr>\n",
       "      <th>15</th>\n",
       "      <td>Toosie Slide</td>\n",
       "      <td>0.830</td>\n",
       "    </tr>\n",
       "    <tr>\n",
       "      <th>1</th>\n",
       "      <td>Dance Monkey</td>\n",
       "      <td>0.825</td>\n",
       "    </tr>\n",
       "    <tr>\n",
       "      <th>29</th>\n",
       "      <td>Godzilla (feat. Juice WRLD)</td>\n",
       "      <td>0.808</td>\n",
       "    </tr>\n",
       "    <tr>\n",
       "      <th>14</th>\n",
       "      <td>Intentions (feat. Quavo)</td>\n",
       "      <td>0.806</td>\n",
       "    </tr>\n",
       "    <tr>\n",
       "      <th>10</th>\n",
       "      <td>Tusa</td>\n",
       "      <td>0.803</td>\n",
       "    </tr>\n",
       "    <tr>\n",
       "      <th>19</th>\n",
       "      <td>Life Is Good (feat. Drake)</td>\n",
       "      <td>0.795</td>\n",
       "    </tr>\n",
       "    <tr>\n",
       "      <th>4</th>\n",
       "      <td>Don't Start Now</td>\n",
       "      <td>0.793</td>\n",
       "    </tr>\n",
       "    <tr>\n",
       "      <th>22</th>\n",
       "      <td>Breaking Me</td>\n",
       "      <td>0.789</td>\n",
       "    </tr>\n",
       "    <tr>\n",
       "      <th>17</th>\n",
       "      <td>Say So</td>\n",
       "      <td>0.787</td>\n",
       "    </tr>\n",
       "    <tr>\n",
       "      <th>3</th>\n",
       "      <td>Roses - Imanbek Remix</td>\n",
       "      <td>0.785</td>\n",
       "    </tr>\n",
       "    <tr>\n",
       "      <th>8</th>\n",
       "      <td>Falling</td>\n",
       "      <td>0.784</td>\n",
       "    </tr>\n",
       "    <tr>\n",
       "      <th>38</th>\n",
       "      <td>Hawái</td>\n",
       "      <td>0.783</td>\n",
       "    </tr>\n",
       "    <tr>\n",
       "      <th>13</th>\n",
       "      <td>Blueberry Faygo</td>\n",
       "      <td>0.774</td>\n",
       "    </tr>\n",
       "    <tr>\n",
       "      <th>20</th>\n",
       "      <td>Savage Love (Laxed - Siren Beat)</td>\n",
       "      <td>0.767</td>\n",
       "    </tr>\n",
       "    <tr>\n",
       "      <th>18</th>\n",
       "      <td>Memories</td>\n",
       "      <td>0.764</td>\n",
       "    </tr>\n",
       "    <tr>\n",
       "      <th>25</th>\n",
       "      <td>Señorita</td>\n",
       "      <td>0.759</td>\n",
       "    </tr>\n",
       "    <tr>\n",
       "      <th>37</th>\n",
       "      <td>Sunflower - Spider-Man: Into the Spider-Verse</td>\n",
       "      <td>0.755</td>\n",
       "    </tr>\n",
       "    <tr>\n",
       "      <th>32</th>\n",
       "      <td>Dynamite</td>\n",
       "      <td>0.746</td>\n",
       "    </tr>\n",
       "    <tr>\n",
       "      <th>5</th>\n",
       "      <td>ROCKSTAR (feat. Roddy Ricch)</td>\n",
       "      <td>0.746</td>\n",
       "    </tr>\n",
       "    <tr>\n",
       "      <th>31</th>\n",
       "      <td>Break My Heart</td>\n",
       "      <td>0.730</td>\n",
       "    </tr>\n",
       "    <tr>\n",
       "      <th>7</th>\n",
       "      <td>death bed (coffee for your head)</td>\n",
       "      <td>0.726</td>\n",
       "    </tr>\n",
       "    <tr>\n",
       "      <th>41</th>\n",
       "      <td>RITMO (Bad Boys For Life)</td>\n",
       "      <td>0.723</td>\n",
       "    </tr>\n",
       "    <tr>\n",
       "      <th>42</th>\n",
       "      <td>THE SCOTTS</td>\n",
       "      <td>0.716</td>\n",
       "    </tr>\n",
       "    <tr>\n",
       "      <th>24</th>\n",
       "      <td>everything i wanted</td>\n",
       "      <td>0.704</td>\n",
       "    </tr>\n",
       "    <tr>\n",
       "      <th>26</th>\n",
       "      <td>bad guy</td>\n",
       "      <td>0.701</td>\n",
       "    </tr>\n",
       "  </tbody>\n",
       "</table>\n",
       "</div>"
      ],
      "text/plain": [
       "                                       track_name  danceability\n",
       "27                WAP (feat. Megan Thee Stallion)         0.935\n",
       "2                                         The Box         0.896\n",
       "39                                        Ride It         0.880\n",
       "28                                    Sunday Best         0.878\n",
       "33               Supalonely (feat. Gus Dapperton)         0.862\n",
       "40                                     goosebumps         0.841\n",
       "49                                     SICKO MODE         0.834\n",
       "15                                   Toosie Slide         0.830\n",
       "1                                    Dance Monkey         0.825\n",
       "29                    Godzilla (feat. Juice WRLD)         0.808\n",
       "14                       Intentions (feat. Quavo)         0.806\n",
       "10                                           Tusa         0.803\n",
       "19                     Life Is Good (feat. Drake)         0.795\n",
       "4                                 Don't Start Now         0.793\n",
       "22                                    Breaking Me         0.789\n",
       "17                                         Say So         0.787\n",
       "3                           Roses - Imanbek Remix         0.785\n",
       "8                                         Falling         0.784\n",
       "38                                          Hawái         0.783\n",
       "13                                Blueberry Faygo         0.774\n",
       "20               Savage Love (Laxed - Siren Beat)         0.767\n",
       "18                                       Memories         0.764\n",
       "25                                       Señorita         0.759\n",
       "37  Sunflower - Spider-Man: Into the Spider-Verse         0.755\n",
       "32                                       Dynamite         0.746\n",
       "5                    ROCKSTAR (feat. Roddy Ricch)         0.746\n",
       "31                                 Break My Heart         0.730\n",
       "7                death bed (coffee for your head)         0.726\n",
       "41                      RITMO (Bad Boys For Life)         0.723\n",
       "42                                     THE SCOTTS         0.716\n",
       "24                            everything i wanted         0.704\n",
       "26                                        bad guy         0.701"
      ]
     },
     "execution_count": 37,
     "metadata": {},
     "output_type": "execute_result"
    }
   ],
   "source": [
    "# 10. Which tracks have a danceability score above 0.7?\n",
    "print(\"Tracks with danceability above 0.7:\")\n",
    "list = ['track_name', 'danceability']\n",
    "df[df['danceability'] > 0.7][list].sort_values(by='danceability', ascending=False)"
   ]
  },
  {
   "cell_type": "markdown",
   "id": "353fbd14-fd05-4218-a9af-6388198ed2ad",
   "metadata": {},
   "source": [
    "11. Which tracks have a danceability score below 0.4?"
   ]
  },
  {
   "cell_type": "code",
   "execution_count": 38,
   "id": "ae946391-58ef-4925-9aa5-68fe96a6f627",
   "metadata": {},
   "outputs": [
    {
     "name": "stdout",
     "output_type": "stream",
     "text": [
      "Tracks with danceability below 0.4:\n"
     ]
    },
    {
     "data": {
      "text/html": [
       "<div>\n",
       "<style scoped>\n",
       "    .dataframe tbody tr th:only-of-type {\n",
       "        vertical-align: middle;\n",
       "    }\n",
       "\n",
       "    .dataframe tbody tr th {\n",
       "        vertical-align: top;\n",
       "    }\n",
       "\n",
       "    .dataframe thead th {\n",
       "        text-align: right;\n",
       "    }\n",
       "</style>\n",
       "<table border=\"1\" class=\"dataframe\">\n",
       "  <thead>\n",
       "    <tr style=\"text-align: right;\">\n",
       "      <th></th>\n",
       "      <th>track_name</th>\n",
       "      <th>danceability</th>\n",
       "    </tr>\n",
       "  </thead>\n",
       "  <tbody>\n",
       "    <tr>\n",
       "      <th>44</th>\n",
       "      <td>lovely (with Khalid)</td>\n",
       "      <td>0.351</td>\n",
       "    </tr>\n",
       "  </tbody>\n",
       "</table>\n",
       "</div>"
      ],
      "text/plain": [
       "              track_name  danceability\n",
       "44  lovely (with Khalid)         0.351"
      ]
     },
     "execution_count": 38,
     "metadata": {},
     "output_type": "execute_result"
    }
   ],
   "source": [
    "# 11. Which tracks have a danceability score below 0.4?\n",
    "print(\"Tracks with danceability below 0.4:\")\n",
    "list = ['track_name', 'danceability']\n",
    "df[df['danceability'] < 0.4][list]"
   ]
  },
  {
   "cell_type": "markdown",
   "id": "a5cd4dcf-257e-4511-b95a-415e76bd27a3",
   "metadata": {},
   "source": [
    "12. Which tracks have their loudness above -5?"
   ]
  },
  {
   "cell_type": "code",
   "execution_count": 41,
   "id": "d4079fa0-2c0c-4bbf-bb8c-aa648f9c8116",
   "metadata": {},
   "outputs": [
    {
     "name": "stdout",
     "output_type": "stream",
     "text": [
      "Tracks with loudness above -5:\n"
     ]
    },
    {
     "data": {
      "text/html": [
       "<div>\n",
       "<style scoped>\n",
       "    .dataframe tbody tr th:only-of-type {\n",
       "        vertical-align: middle;\n",
       "    }\n",
       "\n",
       "    .dataframe tbody tr th {\n",
       "        vertical-align: top;\n",
       "    }\n",
       "\n",
       "    .dataframe thead th {\n",
       "        text-align: right;\n",
       "    }\n",
       "</style>\n",
       "<table border=\"1\" class=\"dataframe\">\n",
       "  <thead>\n",
       "    <tr style=\"text-align: right;\">\n",
       "      <th></th>\n",
       "      <th>track_name</th>\n",
       "      <th>loudness</th>\n",
       "    </tr>\n",
       "  </thead>\n",
       "  <tbody>\n",
       "    <tr>\n",
       "      <th>10</th>\n",
       "      <td>Tusa</td>\n",
       "      <td>-3.280</td>\n",
       "    </tr>\n",
       "    <tr>\n",
       "      <th>40</th>\n",
       "      <td>goosebumps</td>\n",
       "      <td>-3.370</td>\n",
       "    </tr>\n",
       "    <tr>\n",
       "      <th>31</th>\n",
       "      <td>Break My Heart</td>\n",
       "      <td>-3.434</td>\n",
       "    </tr>\n",
       "    <tr>\n",
       "      <th>38</th>\n",
       "      <td>Hawái</td>\n",
       "      <td>-3.454</td>\n",
       "    </tr>\n",
       "    <tr>\n",
       "      <th>12</th>\n",
       "      <td>Circles</td>\n",
       "      <td>-3.497</td>\n",
       "    </tr>\n",
       "    <tr>\n",
       "      <th>23</th>\n",
       "      <td>Mood (feat. iann dior)</td>\n",
       "      <td>-3.558</td>\n",
       "    </tr>\n",
       "    <tr>\n",
       "      <th>21</th>\n",
       "      <td>Adore You</td>\n",
       "      <td>-3.675</td>\n",
       "    </tr>\n",
       "    <tr>\n",
       "      <th>49</th>\n",
       "      <td>SICKO MODE</td>\n",
       "      <td>-3.714</td>\n",
       "    </tr>\n",
       "    <tr>\n",
       "      <th>48</th>\n",
       "      <td>Physical</td>\n",
       "      <td>-3.756</td>\n",
       "    </tr>\n",
       "    <tr>\n",
       "      <th>35</th>\n",
       "      <td>Rain On Me (with Ariana Grande)</td>\n",
       "      <td>-3.764</td>\n",
       "    </tr>\n",
       "    <tr>\n",
       "      <th>43</th>\n",
       "      <td>Safaera</td>\n",
       "      <td>-4.074</td>\n",
       "    </tr>\n",
       "    <tr>\n",
       "      <th>6</th>\n",
       "      <td>Watermelon Sugar</td>\n",
       "      <td>-4.209</td>\n",
       "    </tr>\n",
       "    <tr>\n",
       "      <th>39</th>\n",
       "      <td>Ride It</td>\n",
       "      <td>-4.258</td>\n",
       "    </tr>\n",
       "    <tr>\n",
       "      <th>37</th>\n",
       "      <td>Sunflower - Spider-Man: Into the Spider-Verse</td>\n",
       "      <td>-4.368</td>\n",
       "    </tr>\n",
       "    <tr>\n",
       "      <th>32</th>\n",
       "      <td>Dynamite</td>\n",
       "      <td>-4.410</td>\n",
       "    </tr>\n",
       "    <tr>\n",
       "      <th>4</th>\n",
       "      <td>Don't Start Now</td>\n",
       "      <td>-4.521</td>\n",
       "    </tr>\n",
       "    <tr>\n",
       "      <th>17</th>\n",
       "      <td>Say So</td>\n",
       "      <td>-4.577</td>\n",
       "    </tr>\n",
       "    <tr>\n",
       "      <th>33</th>\n",
       "      <td>Supalonely (feat. Gus Dapperton)</td>\n",
       "      <td>-4.746</td>\n",
       "    </tr>\n",
       "    <tr>\n",
       "      <th>16</th>\n",
       "      <td>Before You Go</td>\n",
       "      <td>-4.858</td>\n",
       "    </tr>\n",
       "  </tbody>\n",
       "</table>\n",
       "</div>"
      ],
      "text/plain": [
       "                                       track_name  loudness\n",
       "10                                           Tusa    -3.280\n",
       "40                                     goosebumps    -3.370\n",
       "31                                 Break My Heart    -3.434\n",
       "38                                          Hawái    -3.454\n",
       "12                                        Circles    -3.497\n",
       "23                         Mood (feat. iann dior)    -3.558\n",
       "21                                      Adore You    -3.675\n",
       "49                                     SICKO MODE    -3.714\n",
       "48                                       Physical    -3.756\n",
       "35                Rain On Me (with Ariana Grande)    -3.764\n",
       "43                                        Safaera    -4.074\n",
       "6                                Watermelon Sugar    -4.209\n",
       "39                                        Ride It    -4.258\n",
       "37  Sunflower - Spider-Man: Into the Spider-Verse    -4.368\n",
       "32                                       Dynamite    -4.410\n",
       "4                                 Don't Start Now    -4.521\n",
       "17                                         Say So    -4.577\n",
       "33               Supalonely (feat. Gus Dapperton)    -4.746\n",
       "16                                  Before You Go    -4.858"
      ]
     },
     "execution_count": 41,
     "metadata": {},
     "output_type": "execute_result"
    }
   ],
   "source": [
    "# 12. Which tracks have their loudness above -5?\n",
    "print(\"Tracks with loudness above -5:\")\n",
    "list = ['track_name', 'loudness']\n",
    "df[df['loudness'] > -5][list].sort_values(by='loudness', ascending=False)"
   ]
  },
  {
   "cell_type": "markdown",
   "id": "38aaf8ea-c112-4bfe-a87d-dc88820bf30c",
   "metadata": {},
   "source": [
    "13. Which tracks have their loudness below -8?"
   ]
  },
  {
   "cell_type": "code",
   "execution_count": 44,
   "id": "c47d22ff-f705-4629-8e42-2e32a00375ac",
   "metadata": {},
   "outputs": [
    {
     "name": "stdout",
     "output_type": "stream",
     "text": [
      "Tracks with loudness below -8:\n"
     ]
    },
    {
     "data": {
      "text/html": [
       "<div>\n",
       "<style scoped>\n",
       "    .dataframe tbody tr th:only-of-type {\n",
       "        vertical-align: middle;\n",
       "    }\n",
       "\n",
       "    .dataframe tbody tr th {\n",
       "        vertical-align: top;\n",
       "    }\n",
       "\n",
       "    .dataframe thead th {\n",
       "        text-align: right;\n",
       "    }\n",
       "</style>\n",
       "<table border=\"1\" class=\"dataframe\">\n",
       "  <thead>\n",
       "    <tr style=\"text-align: right;\">\n",
       "      <th></th>\n",
       "      <th>track_name</th>\n",
       "      <th>loudness</th>\n",
       "    </tr>\n",
       "  </thead>\n",
       "  <tbody>\n",
       "    <tr>\n",
       "      <th>20</th>\n",
       "      <td>Savage Love (Laxed - Siren Beat)</td>\n",
       "      <td>-8.520</td>\n",
       "    </tr>\n",
       "    <tr>\n",
       "      <th>8</th>\n",
       "      <td>Falling</td>\n",
       "      <td>-8.756</td>\n",
       "    </tr>\n",
       "    <tr>\n",
       "      <th>36</th>\n",
       "      <td>HIGHEST IN THE ROOM</td>\n",
       "      <td>-8.764</td>\n",
       "    </tr>\n",
       "    <tr>\n",
       "      <th>7</th>\n",
       "      <td>death bed (coffee for your head)</td>\n",
       "      <td>-8.765</td>\n",
       "    </tr>\n",
       "    <tr>\n",
       "      <th>15</th>\n",
       "      <td>Toosie Slide</td>\n",
       "      <td>-8.820</td>\n",
       "    </tr>\n",
       "    <tr>\n",
       "      <th>47</th>\n",
       "      <td>If the World Was Ending - feat. Julia Michaels</td>\n",
       "      <td>-10.086</td>\n",
       "    </tr>\n",
       "    <tr>\n",
       "      <th>44</th>\n",
       "      <td>lovely (with Khalid)</td>\n",
       "      <td>-10.109</td>\n",
       "    </tr>\n",
       "    <tr>\n",
       "      <th>26</th>\n",
       "      <td>bad guy</td>\n",
       "      <td>-10.965</td>\n",
       "    </tr>\n",
       "    <tr>\n",
       "      <th>24</th>\n",
       "      <td>everything i wanted</td>\n",
       "      <td>-14.454</td>\n",
       "    </tr>\n",
       "  </tbody>\n",
       "</table>\n",
       "</div>"
      ],
      "text/plain": [
       "                                        track_name  loudness\n",
       "20                Savage Love (Laxed - Siren Beat)    -8.520\n",
       "8                                          Falling    -8.756\n",
       "36                             HIGHEST IN THE ROOM    -8.764\n",
       "7                 death bed (coffee for your head)    -8.765\n",
       "15                                    Toosie Slide    -8.820\n",
       "47  If the World Was Ending - feat. Julia Michaels   -10.086\n",
       "44                            lovely (with Khalid)   -10.109\n",
       "26                                         bad guy   -10.965\n",
       "24                             everything i wanted   -14.454"
      ]
     },
     "execution_count": 44,
     "metadata": {},
     "output_type": "execute_result"
    }
   ],
   "source": [
    "# 13. Which tracks have their loudness below -8?\n",
    "print(\"Tracks with loudness below -8:\")\n",
    "list = ['track_name', 'loudness']\n",
    "df[df['loudness'] < -8][list].sort_values(by='loudness', ascending=False)\n"
   ]
  },
  {
   "cell_type": "markdown",
   "id": "d6e2c2ee-6e86-4a4e-a8ce-8c0d57675619",
   "metadata": {},
   "source": [
    "14. Which track is the longest?"
   ]
  },
  {
   "cell_type": "code",
   "execution_count": 18,
   "id": "ac6d9da5-8d6d-4b28-b38d-6b78b13d0253",
   "metadata": {},
   "outputs": [
    {
     "name": "stdout",
     "output_type": "stream",
     "text": [
      "Longest track:\n"
     ]
    },
    {
     "data": {
      "text/plain": [
       "'SICKO MODE'"
      ]
     },
     "execution_count": 18,
     "metadata": {},
     "output_type": "execute_result"
    }
   ],
   "source": [
    "# 14. Which track is the longest?\n",
    "max_duration_index = df['duration_ms'].idxmax()\n",
    "longest_track = df.loc[max_duration_index, 'track_name']\n",
    "print(\"Longest track:\")\n",
    "longest_track"
   ]
  },
  {
   "cell_type": "markdown",
   "id": "a993e53a-df7c-4200-b265-aef7684bad15",
   "metadata": {},
   "source": [
    "15. Which track is the shortest?"
   ]
  },
  {
   "cell_type": "code",
   "execution_count": 19,
   "id": "3e5a46b0-dec5-46d7-87e1-34a71dcd6df9",
   "metadata": {},
   "outputs": [
    {
     "name": "stdout",
     "output_type": "stream",
     "text": [
      "Shortest track:\n"
     ]
    },
    {
     "data": {
      "text/plain": [
       "'Mood (feat. iann dior)'"
      ]
     },
     "execution_count": 19,
     "metadata": {},
     "output_type": "execute_result"
    }
   ],
   "source": [
    "# 15. Which track is the shortest?\n",
    "min_duration_index = df['duration_ms'].idxmin()\n",
    "shorthest_track = df.loc[min_duration_index, 'track_name']\n",
    "print(\"Shortest track:\")\n",
    "shorthest_track\n"
   ]
  },
  {
   "cell_type": "markdown",
   "id": "a0b8626f-9cbf-4936-a5d6-c5d400d439ed",
   "metadata": {},
   "source": [
    "16. Which genre is the most popular?"
   ]
  },
  {
   "cell_type": "code",
   "execution_count": 20,
   "id": "5a70fca9-c948-4c86-bd5d-eb086cd8cd6c",
   "metadata": {},
   "outputs": [
    {
     "name": "stdout",
     "output_type": "stream",
     "text": [
      "Most popular genre:\n",
      " genre\n",
      "Pop    14\n",
      "Name: count, dtype: int64\n"
     ]
    }
   ],
   "source": [
    "# 16. Which genre is the most popular?\n",
    "count_genre = df['genre'].value_counts()\n",
    "most_popular_genre = count_genre[count_genre == count_genre.max()]\n",
    "print(\"Most popular genre:\\n\", most_popular_genre)"
   ]
  },
  {
   "cell_type": "markdown",
   "id": "a00136e2-a460-4674-9dd4-55495f04a7e5",
   "metadata": {},
   "source": [
    "17. Which genres have just one song on the top 50?"
   ]
  },
  {
   "cell_type": "code",
   "execution_count": 21,
   "id": "0918c987-aee9-4085-b83a-8799fc16c245",
   "metadata": {},
   "outputs": [
    {
     "name": "stdout",
     "output_type": "stream",
     "text": [
      "Genre in top 50 with only one song:\n",
      " ['Nu-disco', 'R&B/Hip-Hop alternative', 'Pop/Soft Rock', 'Pop rap', 'Hip-Hop/Trap', 'Dance-pop/Disco', 'Disco-pop', 'Dreampop/Hip-Hop/R&B', 'Alternative/reggaeton/experimental', 'Chamber pop']\n"
     ]
    }
   ],
   "source": [
    "# 17. Which genres have just one song on the top 50?\n",
    "genre_with_one_song = count_genre[count_genre == 1]\n",
    "print(\"Genre in top 50 with only one song:\\n\", genre_with_one_song.index.tolist())"
   ]
  },
  {
   "cell_type": "markdown",
   "id": "bfcf9d08-d949-4f07-b6a4-5d05f29e2df3",
   "metadata": {},
   "source": [
    "18. How many genres in total are represented in the top 50?"
   ]
  },
  {
   "cell_type": "code",
   "execution_count": 22,
   "id": "9e7f6119-d623-47e4-90c9-8f5f7e3f0258",
   "metadata": {},
   "outputs": [
    {
     "name": "stdout",
     "output_type": "stream",
     "text": [
      "In the top 50 total genres:  16\n"
     ]
    }
   ],
   "source": [
    "# 18. How many genres in total are represented in the top 50?\n",
    "total_genres_in_top50 = count_genre.index.nunique()\n",
    "print(\"In the top 50 total genres: \", total_genres_in_top50)\n",
    "\n"
   ]
  },
  {
   "cell_type": "markdown",
   "id": "2a16f3f9-55e0-4e90-9b95-0ac1cd5648a0",
   "metadata": {},
   "source": [
    "19. Which features are strongly positively correlated?\n"
   ]
  },
  {
   "cell_type": "code",
   "execution_count": 23,
   "id": "20437b75-56c9-41b6-a32b-ab07b6c51c60",
   "metadata": {},
   "outputs": [
    {
     "name": "stdout",
     "output_type": "stream",
     "text": [
      "Strongly positively correlated numeric features in TOP 50 Spotify Tracks 2020\n"
     ]
    },
    {
     "data": {
      "text/html": [
       "<style type=\"text/css\">\n",
       "</style>\n",
       "<table id=\"T_e8532\">\n",
       "  <thead>\n",
       "    <tr>\n",
       "      <th class=\"blank level0\" >&nbsp;</th>\n",
       "      <th id=\"T_e8532_level0_col0\" class=\"col_heading level0 col0\" >energy</th>\n",
       "      <th id=\"T_e8532_level0_col1\" class=\"col_heading level0 col1\" >danceability</th>\n",
       "      <th id=\"T_e8532_level0_col2\" class=\"col_heading level0 col2\" >key</th>\n",
       "      <th id=\"T_e8532_level0_col3\" class=\"col_heading level0 col3\" >loudness</th>\n",
       "      <th id=\"T_e8532_level0_col4\" class=\"col_heading level0 col4\" >acousticness</th>\n",
       "      <th id=\"T_e8532_level0_col5\" class=\"col_heading level0 col5\" >speechiness</th>\n",
       "      <th id=\"T_e8532_level0_col6\" class=\"col_heading level0 col6\" >instrumentalness</th>\n",
       "      <th id=\"T_e8532_level0_col7\" class=\"col_heading level0 col7\" >liveness</th>\n",
       "      <th id=\"T_e8532_level0_col8\" class=\"col_heading level0 col8\" >valence</th>\n",
       "      <th id=\"T_e8532_level0_col9\" class=\"col_heading level0 col9\" >tempo</th>\n",
       "      <th id=\"T_e8532_level0_col10\" class=\"col_heading level0 col10\" >duration_ms</th>\n",
       "    </tr>\n",
       "  </thead>\n",
       "  <tbody>\n",
       "    <tr>\n",
       "      <th id=\"T_e8532_level0_row0\" class=\"row_heading level0 row0\" >energy</th>\n",
       "      <td id=\"T_e8532_row0_col0\" class=\"data row0 col0\" ></td>\n",
       "      <td id=\"T_e8532_row0_col1\" class=\"data row0 col1\" ></td>\n",
       "      <td id=\"T_e8532_row0_col2\" class=\"data row0 col2\" ></td>\n",
       "      <td id=\"T_e8532_row0_col3\" class=\"data row0 col3\" >0.791640</td>\n",
       "      <td id=\"T_e8532_row0_col4\" class=\"data row0 col4\" ></td>\n",
       "      <td id=\"T_e8532_row0_col5\" class=\"data row0 col5\" ></td>\n",
       "      <td id=\"T_e8532_row0_col6\" class=\"data row0 col6\" ></td>\n",
       "      <td id=\"T_e8532_row0_col7\" class=\"data row0 col7\" ></td>\n",
       "      <td id=\"T_e8532_row0_col8\" class=\"data row0 col8\" ></td>\n",
       "      <td id=\"T_e8532_row0_col9\" class=\"data row0 col9\" ></td>\n",
       "      <td id=\"T_e8532_row0_col10\" class=\"data row0 col10\" ></td>\n",
       "    </tr>\n",
       "    <tr>\n",
       "      <th id=\"T_e8532_level0_row1\" class=\"row_heading level0 row1\" >danceability</th>\n",
       "      <td id=\"T_e8532_row1_col0\" class=\"data row1 col0\" ></td>\n",
       "      <td id=\"T_e8532_row1_col1\" class=\"data row1 col1\" ></td>\n",
       "      <td id=\"T_e8532_row1_col2\" class=\"data row1 col2\" ></td>\n",
       "      <td id=\"T_e8532_row1_col3\" class=\"data row1 col3\" ></td>\n",
       "      <td id=\"T_e8532_row1_col4\" class=\"data row1 col4\" ></td>\n",
       "      <td id=\"T_e8532_row1_col5\" class=\"data row1 col5\" ></td>\n",
       "      <td id=\"T_e8532_row1_col6\" class=\"data row1 col6\" ></td>\n",
       "      <td id=\"T_e8532_row1_col7\" class=\"data row1 col7\" ></td>\n",
       "      <td id=\"T_e8532_row1_col8\" class=\"data row1 col8\" ></td>\n",
       "      <td id=\"T_e8532_row1_col9\" class=\"data row1 col9\" ></td>\n",
       "      <td id=\"T_e8532_row1_col10\" class=\"data row1 col10\" ></td>\n",
       "    </tr>\n",
       "    <tr>\n",
       "      <th id=\"T_e8532_level0_row2\" class=\"row_heading level0 row2\" >key</th>\n",
       "      <td id=\"T_e8532_row2_col0\" class=\"data row2 col0\" ></td>\n",
       "      <td id=\"T_e8532_row2_col1\" class=\"data row2 col1\" ></td>\n",
       "      <td id=\"T_e8532_row2_col2\" class=\"data row2 col2\" ></td>\n",
       "      <td id=\"T_e8532_row2_col3\" class=\"data row2 col3\" ></td>\n",
       "      <td id=\"T_e8532_row2_col4\" class=\"data row2 col4\" ></td>\n",
       "      <td id=\"T_e8532_row2_col5\" class=\"data row2 col5\" ></td>\n",
       "      <td id=\"T_e8532_row2_col6\" class=\"data row2 col6\" ></td>\n",
       "      <td id=\"T_e8532_row2_col7\" class=\"data row2 col7\" ></td>\n",
       "      <td id=\"T_e8532_row2_col8\" class=\"data row2 col8\" ></td>\n",
       "      <td id=\"T_e8532_row2_col9\" class=\"data row2 col9\" ></td>\n",
       "      <td id=\"T_e8532_row2_col10\" class=\"data row2 col10\" ></td>\n",
       "    </tr>\n",
       "    <tr>\n",
       "      <th id=\"T_e8532_level0_row3\" class=\"row_heading level0 row3\" >loudness</th>\n",
       "      <td id=\"T_e8532_row3_col0\" class=\"data row3 col0\" ></td>\n",
       "      <td id=\"T_e8532_row3_col1\" class=\"data row3 col1\" ></td>\n",
       "      <td id=\"T_e8532_row3_col2\" class=\"data row3 col2\" ></td>\n",
       "      <td id=\"T_e8532_row3_col3\" class=\"data row3 col3\" ></td>\n",
       "      <td id=\"T_e8532_row3_col4\" class=\"data row3 col4\" ></td>\n",
       "      <td id=\"T_e8532_row3_col5\" class=\"data row3 col5\" ></td>\n",
       "      <td id=\"T_e8532_row3_col6\" class=\"data row3 col6\" ></td>\n",
       "      <td id=\"T_e8532_row3_col7\" class=\"data row3 col7\" ></td>\n",
       "      <td id=\"T_e8532_row3_col8\" class=\"data row3 col8\" ></td>\n",
       "      <td id=\"T_e8532_row3_col9\" class=\"data row3 col9\" ></td>\n",
       "      <td id=\"T_e8532_row3_col10\" class=\"data row3 col10\" ></td>\n",
       "    </tr>\n",
       "    <tr>\n",
       "      <th id=\"T_e8532_level0_row4\" class=\"row_heading level0 row4\" >acousticness</th>\n",
       "      <td id=\"T_e8532_row4_col0\" class=\"data row4 col0\" ></td>\n",
       "      <td id=\"T_e8532_row4_col1\" class=\"data row4 col1\" ></td>\n",
       "      <td id=\"T_e8532_row4_col2\" class=\"data row4 col2\" ></td>\n",
       "      <td id=\"T_e8532_row4_col3\" class=\"data row4 col3\" ></td>\n",
       "      <td id=\"T_e8532_row4_col4\" class=\"data row4 col4\" ></td>\n",
       "      <td id=\"T_e8532_row4_col5\" class=\"data row4 col5\" ></td>\n",
       "      <td id=\"T_e8532_row4_col6\" class=\"data row4 col6\" ></td>\n",
       "      <td id=\"T_e8532_row4_col7\" class=\"data row4 col7\" ></td>\n",
       "      <td id=\"T_e8532_row4_col8\" class=\"data row4 col8\" ></td>\n",
       "      <td id=\"T_e8532_row4_col9\" class=\"data row4 col9\" ></td>\n",
       "      <td id=\"T_e8532_row4_col10\" class=\"data row4 col10\" ></td>\n",
       "    </tr>\n",
       "    <tr>\n",
       "      <th id=\"T_e8532_level0_row5\" class=\"row_heading level0 row5\" >speechiness</th>\n",
       "      <td id=\"T_e8532_row5_col0\" class=\"data row5 col0\" ></td>\n",
       "      <td id=\"T_e8532_row5_col1\" class=\"data row5 col1\" ></td>\n",
       "      <td id=\"T_e8532_row5_col2\" class=\"data row5 col2\" ></td>\n",
       "      <td id=\"T_e8532_row5_col3\" class=\"data row5 col3\" ></td>\n",
       "      <td id=\"T_e8532_row5_col4\" class=\"data row5 col4\" ></td>\n",
       "      <td id=\"T_e8532_row5_col5\" class=\"data row5 col5\" ></td>\n",
       "      <td id=\"T_e8532_row5_col6\" class=\"data row5 col6\" ></td>\n",
       "      <td id=\"T_e8532_row5_col7\" class=\"data row5 col7\" ></td>\n",
       "      <td id=\"T_e8532_row5_col8\" class=\"data row5 col8\" ></td>\n",
       "      <td id=\"T_e8532_row5_col9\" class=\"data row5 col9\" ></td>\n",
       "      <td id=\"T_e8532_row5_col10\" class=\"data row5 col10\" ></td>\n",
       "    </tr>\n",
       "    <tr>\n",
       "      <th id=\"T_e8532_level0_row6\" class=\"row_heading level0 row6\" >instrumentalness</th>\n",
       "      <td id=\"T_e8532_row6_col0\" class=\"data row6 col0\" ></td>\n",
       "      <td id=\"T_e8532_row6_col1\" class=\"data row6 col1\" ></td>\n",
       "      <td id=\"T_e8532_row6_col2\" class=\"data row6 col2\" ></td>\n",
       "      <td id=\"T_e8532_row6_col3\" class=\"data row6 col3\" ></td>\n",
       "      <td id=\"T_e8532_row6_col4\" class=\"data row6 col4\" ></td>\n",
       "      <td id=\"T_e8532_row6_col5\" class=\"data row6 col5\" ></td>\n",
       "      <td id=\"T_e8532_row6_col6\" class=\"data row6 col6\" ></td>\n",
       "      <td id=\"T_e8532_row6_col7\" class=\"data row6 col7\" ></td>\n",
       "      <td id=\"T_e8532_row6_col8\" class=\"data row6 col8\" ></td>\n",
       "      <td id=\"T_e8532_row6_col9\" class=\"data row6 col9\" ></td>\n",
       "      <td id=\"T_e8532_row6_col10\" class=\"data row6 col10\" ></td>\n",
       "    </tr>\n",
       "    <tr>\n",
       "      <th id=\"T_e8532_level0_row7\" class=\"row_heading level0 row7\" >liveness</th>\n",
       "      <td id=\"T_e8532_row7_col0\" class=\"data row7 col0\" ></td>\n",
       "      <td id=\"T_e8532_row7_col1\" class=\"data row7 col1\" ></td>\n",
       "      <td id=\"T_e8532_row7_col2\" class=\"data row7 col2\" ></td>\n",
       "      <td id=\"T_e8532_row7_col3\" class=\"data row7 col3\" ></td>\n",
       "      <td id=\"T_e8532_row7_col4\" class=\"data row7 col4\" ></td>\n",
       "      <td id=\"T_e8532_row7_col5\" class=\"data row7 col5\" ></td>\n",
       "      <td id=\"T_e8532_row7_col6\" class=\"data row7 col6\" ></td>\n",
       "      <td id=\"T_e8532_row7_col7\" class=\"data row7 col7\" ></td>\n",
       "      <td id=\"T_e8532_row7_col8\" class=\"data row7 col8\" ></td>\n",
       "      <td id=\"T_e8532_row7_col9\" class=\"data row7 col9\" ></td>\n",
       "      <td id=\"T_e8532_row7_col10\" class=\"data row7 col10\" ></td>\n",
       "    </tr>\n",
       "    <tr>\n",
       "      <th id=\"T_e8532_level0_row8\" class=\"row_heading level0 row8\" >valence</th>\n",
       "      <td id=\"T_e8532_row8_col0\" class=\"data row8 col0\" ></td>\n",
       "      <td id=\"T_e8532_row8_col1\" class=\"data row8 col1\" ></td>\n",
       "      <td id=\"T_e8532_row8_col2\" class=\"data row8 col2\" ></td>\n",
       "      <td id=\"T_e8532_row8_col3\" class=\"data row8 col3\" ></td>\n",
       "      <td id=\"T_e8532_row8_col4\" class=\"data row8 col4\" ></td>\n",
       "      <td id=\"T_e8532_row8_col5\" class=\"data row8 col5\" ></td>\n",
       "      <td id=\"T_e8532_row8_col6\" class=\"data row8 col6\" ></td>\n",
       "      <td id=\"T_e8532_row8_col7\" class=\"data row8 col7\" ></td>\n",
       "      <td id=\"T_e8532_row8_col8\" class=\"data row8 col8\" ></td>\n",
       "      <td id=\"T_e8532_row8_col9\" class=\"data row8 col9\" ></td>\n",
       "      <td id=\"T_e8532_row8_col10\" class=\"data row8 col10\" ></td>\n",
       "    </tr>\n",
       "    <tr>\n",
       "      <th id=\"T_e8532_level0_row9\" class=\"row_heading level0 row9\" >tempo</th>\n",
       "      <td id=\"T_e8532_row9_col0\" class=\"data row9 col0\" ></td>\n",
       "      <td id=\"T_e8532_row9_col1\" class=\"data row9 col1\" ></td>\n",
       "      <td id=\"T_e8532_row9_col2\" class=\"data row9 col2\" ></td>\n",
       "      <td id=\"T_e8532_row9_col3\" class=\"data row9 col3\" ></td>\n",
       "      <td id=\"T_e8532_row9_col4\" class=\"data row9 col4\" ></td>\n",
       "      <td id=\"T_e8532_row9_col5\" class=\"data row9 col5\" ></td>\n",
       "      <td id=\"T_e8532_row9_col6\" class=\"data row9 col6\" ></td>\n",
       "      <td id=\"T_e8532_row9_col7\" class=\"data row9 col7\" ></td>\n",
       "      <td id=\"T_e8532_row9_col8\" class=\"data row9 col8\" ></td>\n",
       "      <td id=\"T_e8532_row9_col9\" class=\"data row9 col9\" ></td>\n",
       "      <td id=\"T_e8532_row9_col10\" class=\"data row9 col10\" ></td>\n",
       "    </tr>\n",
       "    <tr>\n",
       "      <th id=\"T_e8532_level0_row10\" class=\"row_heading level0 row10\" >duration_ms</th>\n",
       "      <td id=\"T_e8532_row10_col0\" class=\"data row10 col0\" ></td>\n",
       "      <td id=\"T_e8532_row10_col1\" class=\"data row10 col1\" ></td>\n",
       "      <td id=\"T_e8532_row10_col2\" class=\"data row10 col2\" ></td>\n",
       "      <td id=\"T_e8532_row10_col3\" class=\"data row10 col3\" ></td>\n",
       "      <td id=\"T_e8532_row10_col4\" class=\"data row10 col4\" ></td>\n",
       "      <td id=\"T_e8532_row10_col5\" class=\"data row10 col5\" ></td>\n",
       "      <td id=\"T_e8532_row10_col6\" class=\"data row10 col6\" ></td>\n",
       "      <td id=\"T_e8532_row10_col7\" class=\"data row10 col7\" ></td>\n",
       "      <td id=\"T_e8532_row10_col8\" class=\"data row10 col8\" ></td>\n",
       "      <td id=\"T_e8532_row10_col9\" class=\"data row10 col9\" ></td>\n",
       "      <td id=\"T_e8532_row10_col10\" class=\"data row10 col10\" ></td>\n",
       "    </tr>\n",
       "  </tbody>\n",
       "</table>\n"
      ],
      "text/plain": [
       "<pandas.io.formats.style.Styler at 0x1eec7e90e90>"
      ]
     },
     "execution_count": 23,
     "metadata": {},
     "output_type": "execute_result"
    }
   ],
   "source": [
    "# 19. Which features are strongly positively correlated?\n",
    "treshold = 0.7\n",
    "numeric_columns = df.select_dtypes(include=['number'])\n",
    "matrix = numeric_columns.corr()\n",
    "#matrix.head()\n",
    "strong_positive_correlations = matrix.where(~np.tril(np.ones(matrix.shape)).astype(bool))\n",
    "strong_positive_correlations = strong_positive_correlations[strong_positive_correlations > treshold]\n",
    "\n",
    "print(\"Strongly positively correlated numeric features in TOP 50 Spotify Tracks 2020\")\n",
    "# print in a formatted table excluding NaN values that do not met selected treshold\n",
    "strong_positive_correlations.style.format(na_rep='')  \n",
    "\n"
   ]
  },
  {
   "cell_type": "markdown",
   "id": "b49ad3eb-5450-47c5-a5dd-78c16400deb9",
   "metadata": {},
   "source": [
    "20. Which features are strongly negatively correlated?"
   ]
  },
  {
   "cell_type": "code",
   "execution_count": 24,
   "id": "8374e1c7-656b-4059-9a8f-beb0a3f60f4b",
   "metadata": {},
   "outputs": [
    {
     "name": "stdout",
     "output_type": "stream",
     "text": [
      "Strongly negatively correlated numeric features in TOP 50 Spotify Tracks 2020\n"
     ]
    },
    {
     "data": {
      "text/html": [
       "<style type=\"text/css\">\n",
       "</style>\n",
       "<table id=\"T_87825\">\n",
       "  <thead>\n",
       "    <tr>\n",
       "      <th class=\"blank level0\" >&nbsp;</th>\n",
       "      <th id=\"T_87825_level0_col0\" class=\"col_heading level0 col0\" >energy</th>\n",
       "      <th id=\"T_87825_level0_col1\" class=\"col_heading level0 col1\" >danceability</th>\n",
       "      <th id=\"T_87825_level0_col2\" class=\"col_heading level0 col2\" >key</th>\n",
       "      <th id=\"T_87825_level0_col3\" class=\"col_heading level0 col3\" >loudness</th>\n",
       "      <th id=\"T_87825_level0_col4\" class=\"col_heading level0 col4\" >acousticness</th>\n",
       "      <th id=\"T_87825_level0_col5\" class=\"col_heading level0 col5\" >speechiness</th>\n",
       "      <th id=\"T_87825_level0_col6\" class=\"col_heading level0 col6\" >instrumentalness</th>\n",
       "      <th id=\"T_87825_level0_col7\" class=\"col_heading level0 col7\" >liveness</th>\n",
       "      <th id=\"T_87825_level0_col8\" class=\"col_heading level0 col8\" >valence</th>\n",
       "      <th id=\"T_87825_level0_col9\" class=\"col_heading level0 col9\" >tempo</th>\n",
       "      <th id=\"T_87825_level0_col10\" class=\"col_heading level0 col10\" >duration_ms</th>\n",
       "    </tr>\n",
       "  </thead>\n",
       "  <tbody>\n",
       "    <tr>\n",
       "      <th id=\"T_87825_level0_row0\" class=\"row_heading level0 row0\" >energy</th>\n",
       "      <td id=\"T_87825_row0_col0\" class=\"data row0 col0\" ></td>\n",
       "      <td id=\"T_87825_row0_col1\" class=\"data row0 col1\" ></td>\n",
       "      <td id=\"T_87825_row0_col2\" class=\"data row0 col2\" ></td>\n",
       "      <td id=\"T_87825_row0_col3\" class=\"data row0 col3\" ></td>\n",
       "      <td id=\"T_87825_row0_col4\" class=\"data row0 col4\" >-0.682479</td>\n",
       "      <td id=\"T_87825_row0_col5\" class=\"data row0 col5\" ></td>\n",
       "      <td id=\"T_87825_row0_col6\" class=\"data row0 col6\" ></td>\n",
       "      <td id=\"T_87825_row0_col7\" class=\"data row0 col7\" ></td>\n",
       "      <td id=\"T_87825_row0_col8\" class=\"data row0 col8\" ></td>\n",
       "      <td id=\"T_87825_row0_col9\" class=\"data row0 col9\" ></td>\n",
       "      <td id=\"T_87825_row0_col10\" class=\"data row0 col10\" ></td>\n",
       "    </tr>\n",
       "    <tr>\n",
       "      <th id=\"T_87825_level0_row1\" class=\"row_heading level0 row1\" >danceability</th>\n",
       "      <td id=\"T_87825_row1_col0\" class=\"data row1 col0\" ></td>\n",
       "      <td id=\"T_87825_row1_col1\" class=\"data row1 col1\" ></td>\n",
       "      <td id=\"T_87825_row1_col2\" class=\"data row1 col2\" ></td>\n",
       "      <td id=\"T_87825_row1_col3\" class=\"data row1 col3\" ></td>\n",
       "      <td id=\"T_87825_row1_col4\" class=\"data row1 col4\" ></td>\n",
       "      <td id=\"T_87825_row1_col5\" class=\"data row1 col5\" ></td>\n",
       "      <td id=\"T_87825_row1_col6\" class=\"data row1 col6\" ></td>\n",
       "      <td id=\"T_87825_row1_col7\" class=\"data row1 col7\" ></td>\n",
       "      <td id=\"T_87825_row1_col8\" class=\"data row1 col8\" ></td>\n",
       "      <td id=\"T_87825_row1_col9\" class=\"data row1 col9\" ></td>\n",
       "      <td id=\"T_87825_row1_col10\" class=\"data row1 col10\" ></td>\n",
       "    </tr>\n",
       "    <tr>\n",
       "      <th id=\"T_87825_level0_row2\" class=\"row_heading level0 row2\" >key</th>\n",
       "      <td id=\"T_87825_row2_col0\" class=\"data row2 col0\" ></td>\n",
       "      <td id=\"T_87825_row2_col1\" class=\"data row2 col1\" ></td>\n",
       "      <td id=\"T_87825_row2_col2\" class=\"data row2 col2\" ></td>\n",
       "      <td id=\"T_87825_row2_col3\" class=\"data row2 col3\" ></td>\n",
       "      <td id=\"T_87825_row2_col4\" class=\"data row2 col4\" ></td>\n",
       "      <td id=\"T_87825_row2_col5\" class=\"data row2 col5\" ></td>\n",
       "      <td id=\"T_87825_row2_col6\" class=\"data row2 col6\" ></td>\n",
       "      <td id=\"T_87825_row2_col7\" class=\"data row2 col7\" ></td>\n",
       "      <td id=\"T_87825_row2_col8\" class=\"data row2 col8\" ></td>\n",
       "      <td id=\"T_87825_row2_col9\" class=\"data row2 col9\" ></td>\n",
       "      <td id=\"T_87825_row2_col10\" class=\"data row2 col10\" ></td>\n",
       "    </tr>\n",
       "    <tr>\n",
       "      <th id=\"T_87825_level0_row3\" class=\"row_heading level0 row3\" >loudness</th>\n",
       "      <td id=\"T_87825_row3_col0\" class=\"data row3 col0\" ></td>\n",
       "      <td id=\"T_87825_row3_col1\" class=\"data row3 col1\" ></td>\n",
       "      <td id=\"T_87825_row3_col2\" class=\"data row3 col2\" ></td>\n",
       "      <td id=\"T_87825_row3_col3\" class=\"data row3 col3\" ></td>\n",
       "      <td id=\"T_87825_row3_col4\" class=\"data row3 col4\" ></td>\n",
       "      <td id=\"T_87825_row3_col5\" class=\"data row3 col5\" ></td>\n",
       "      <td id=\"T_87825_row3_col6\" class=\"data row3 col6\" ></td>\n",
       "      <td id=\"T_87825_row3_col7\" class=\"data row3 col7\" ></td>\n",
       "      <td id=\"T_87825_row3_col8\" class=\"data row3 col8\" ></td>\n",
       "      <td id=\"T_87825_row3_col9\" class=\"data row3 col9\" ></td>\n",
       "      <td id=\"T_87825_row3_col10\" class=\"data row3 col10\" ></td>\n",
       "    </tr>\n",
       "    <tr>\n",
       "      <th id=\"T_87825_level0_row4\" class=\"row_heading level0 row4\" >acousticness</th>\n",
       "      <td id=\"T_87825_row4_col0\" class=\"data row4 col0\" ></td>\n",
       "      <td id=\"T_87825_row4_col1\" class=\"data row4 col1\" ></td>\n",
       "      <td id=\"T_87825_row4_col2\" class=\"data row4 col2\" ></td>\n",
       "      <td id=\"T_87825_row4_col3\" class=\"data row4 col3\" ></td>\n",
       "      <td id=\"T_87825_row4_col4\" class=\"data row4 col4\" ></td>\n",
       "      <td id=\"T_87825_row4_col5\" class=\"data row4 col5\" ></td>\n",
       "      <td id=\"T_87825_row4_col6\" class=\"data row4 col6\" ></td>\n",
       "      <td id=\"T_87825_row4_col7\" class=\"data row4 col7\" ></td>\n",
       "      <td id=\"T_87825_row4_col8\" class=\"data row4 col8\" ></td>\n",
       "      <td id=\"T_87825_row4_col9\" class=\"data row4 col9\" ></td>\n",
       "      <td id=\"T_87825_row4_col10\" class=\"data row4 col10\" ></td>\n",
       "    </tr>\n",
       "    <tr>\n",
       "      <th id=\"T_87825_level0_row5\" class=\"row_heading level0 row5\" >speechiness</th>\n",
       "      <td id=\"T_87825_row5_col0\" class=\"data row5 col0\" ></td>\n",
       "      <td id=\"T_87825_row5_col1\" class=\"data row5 col1\" ></td>\n",
       "      <td id=\"T_87825_row5_col2\" class=\"data row5 col2\" ></td>\n",
       "      <td id=\"T_87825_row5_col3\" class=\"data row5 col3\" ></td>\n",
       "      <td id=\"T_87825_row5_col4\" class=\"data row5 col4\" ></td>\n",
       "      <td id=\"T_87825_row5_col5\" class=\"data row5 col5\" ></td>\n",
       "      <td id=\"T_87825_row5_col6\" class=\"data row5 col6\" ></td>\n",
       "      <td id=\"T_87825_row5_col7\" class=\"data row5 col7\" ></td>\n",
       "      <td id=\"T_87825_row5_col8\" class=\"data row5 col8\" ></td>\n",
       "      <td id=\"T_87825_row5_col9\" class=\"data row5 col9\" ></td>\n",
       "      <td id=\"T_87825_row5_col10\" class=\"data row5 col10\" ></td>\n",
       "    </tr>\n",
       "    <tr>\n",
       "      <th id=\"T_87825_level0_row6\" class=\"row_heading level0 row6\" >instrumentalness</th>\n",
       "      <td id=\"T_87825_row6_col0\" class=\"data row6 col0\" ></td>\n",
       "      <td id=\"T_87825_row6_col1\" class=\"data row6 col1\" ></td>\n",
       "      <td id=\"T_87825_row6_col2\" class=\"data row6 col2\" ></td>\n",
       "      <td id=\"T_87825_row6_col3\" class=\"data row6 col3\" ></td>\n",
       "      <td id=\"T_87825_row6_col4\" class=\"data row6 col4\" ></td>\n",
       "      <td id=\"T_87825_row6_col5\" class=\"data row6 col5\" ></td>\n",
       "      <td id=\"T_87825_row6_col6\" class=\"data row6 col6\" ></td>\n",
       "      <td id=\"T_87825_row6_col7\" class=\"data row6 col7\" ></td>\n",
       "      <td id=\"T_87825_row6_col8\" class=\"data row6 col8\" ></td>\n",
       "      <td id=\"T_87825_row6_col9\" class=\"data row6 col9\" ></td>\n",
       "      <td id=\"T_87825_row6_col10\" class=\"data row6 col10\" ></td>\n",
       "    </tr>\n",
       "    <tr>\n",
       "      <th id=\"T_87825_level0_row7\" class=\"row_heading level0 row7\" >liveness</th>\n",
       "      <td id=\"T_87825_row7_col0\" class=\"data row7 col0\" ></td>\n",
       "      <td id=\"T_87825_row7_col1\" class=\"data row7 col1\" ></td>\n",
       "      <td id=\"T_87825_row7_col2\" class=\"data row7 col2\" ></td>\n",
       "      <td id=\"T_87825_row7_col3\" class=\"data row7 col3\" ></td>\n",
       "      <td id=\"T_87825_row7_col4\" class=\"data row7 col4\" ></td>\n",
       "      <td id=\"T_87825_row7_col5\" class=\"data row7 col5\" ></td>\n",
       "      <td id=\"T_87825_row7_col6\" class=\"data row7 col6\" ></td>\n",
       "      <td id=\"T_87825_row7_col7\" class=\"data row7 col7\" ></td>\n",
       "      <td id=\"T_87825_row7_col8\" class=\"data row7 col8\" ></td>\n",
       "      <td id=\"T_87825_row7_col9\" class=\"data row7 col9\" ></td>\n",
       "      <td id=\"T_87825_row7_col10\" class=\"data row7 col10\" ></td>\n",
       "    </tr>\n",
       "    <tr>\n",
       "      <th id=\"T_87825_level0_row8\" class=\"row_heading level0 row8\" >valence</th>\n",
       "      <td id=\"T_87825_row8_col0\" class=\"data row8 col0\" ></td>\n",
       "      <td id=\"T_87825_row8_col1\" class=\"data row8 col1\" ></td>\n",
       "      <td id=\"T_87825_row8_col2\" class=\"data row8 col2\" ></td>\n",
       "      <td id=\"T_87825_row8_col3\" class=\"data row8 col3\" ></td>\n",
       "      <td id=\"T_87825_row8_col4\" class=\"data row8 col4\" ></td>\n",
       "      <td id=\"T_87825_row8_col5\" class=\"data row8 col5\" ></td>\n",
       "      <td id=\"T_87825_row8_col6\" class=\"data row8 col6\" ></td>\n",
       "      <td id=\"T_87825_row8_col7\" class=\"data row8 col7\" ></td>\n",
       "      <td id=\"T_87825_row8_col8\" class=\"data row8 col8\" ></td>\n",
       "      <td id=\"T_87825_row8_col9\" class=\"data row8 col9\" ></td>\n",
       "      <td id=\"T_87825_row8_col10\" class=\"data row8 col10\" ></td>\n",
       "    </tr>\n",
       "    <tr>\n",
       "      <th id=\"T_87825_level0_row9\" class=\"row_heading level0 row9\" >tempo</th>\n",
       "      <td id=\"T_87825_row9_col0\" class=\"data row9 col0\" ></td>\n",
       "      <td id=\"T_87825_row9_col1\" class=\"data row9 col1\" ></td>\n",
       "      <td id=\"T_87825_row9_col2\" class=\"data row9 col2\" ></td>\n",
       "      <td id=\"T_87825_row9_col3\" class=\"data row9 col3\" ></td>\n",
       "      <td id=\"T_87825_row9_col4\" class=\"data row9 col4\" ></td>\n",
       "      <td id=\"T_87825_row9_col5\" class=\"data row9 col5\" ></td>\n",
       "      <td id=\"T_87825_row9_col6\" class=\"data row9 col6\" ></td>\n",
       "      <td id=\"T_87825_row9_col7\" class=\"data row9 col7\" ></td>\n",
       "      <td id=\"T_87825_row9_col8\" class=\"data row9 col8\" ></td>\n",
       "      <td id=\"T_87825_row9_col9\" class=\"data row9 col9\" ></td>\n",
       "      <td id=\"T_87825_row9_col10\" class=\"data row9 col10\" ></td>\n",
       "    </tr>\n",
       "    <tr>\n",
       "      <th id=\"T_87825_level0_row10\" class=\"row_heading level0 row10\" >duration_ms</th>\n",
       "      <td id=\"T_87825_row10_col0\" class=\"data row10 col0\" ></td>\n",
       "      <td id=\"T_87825_row10_col1\" class=\"data row10 col1\" ></td>\n",
       "      <td id=\"T_87825_row10_col2\" class=\"data row10 col2\" ></td>\n",
       "      <td id=\"T_87825_row10_col3\" class=\"data row10 col3\" ></td>\n",
       "      <td id=\"T_87825_row10_col4\" class=\"data row10 col4\" ></td>\n",
       "      <td id=\"T_87825_row10_col5\" class=\"data row10 col5\" ></td>\n",
       "      <td id=\"T_87825_row10_col6\" class=\"data row10 col6\" ></td>\n",
       "      <td id=\"T_87825_row10_col7\" class=\"data row10 col7\" ></td>\n",
       "      <td id=\"T_87825_row10_col8\" class=\"data row10 col8\" ></td>\n",
       "      <td id=\"T_87825_row10_col9\" class=\"data row10 col9\" ></td>\n",
       "      <td id=\"T_87825_row10_col10\" class=\"data row10 col10\" ></td>\n",
       "    </tr>\n",
       "  </tbody>\n",
       "</table>\n"
      ],
      "text/plain": [
       "<pandas.io.formats.style.Styler at 0x1eec8f9e810>"
      ]
     },
     "execution_count": 24,
     "metadata": {},
     "output_type": "execute_result"
    }
   ],
   "source": [
    "# 20. Which features are strongly negatively correlated?\n",
    "treshold = -0.6\n",
    "numeric_columns = df.select_dtypes(include=['number'])\n",
    "matrix = numeric_columns.corr()\n",
    "matrix.head()\n",
    "strong_negative_correlations = matrix.where(~np.tril(np.ones(matrix.shape)).astype(bool))\n",
    "strong_negative_correlations = strong_negative_correlations[strong_negative_correlations < treshold]\n",
    "\n",
    "print(\"Strongly negatively correlated numeric features in TOP 50 Spotify Tracks 2020\")\n",
    "# print in a formatted table excluding NaN values that do not met selected treshold\n",
    "strong_negative_correlations.style.format(na_rep='')  "
   ]
  },
  {
   "cell_type": "markdown",
   "id": "b685fd26-8834-458d-8c4f-4c531ef2d868",
   "metadata": {},
   "source": [
    "21. Which features are not correlated?"
   ]
  },
  {
   "cell_type": "markdown",
   "id": "a5298e47-aa8a-4b7f-ba89-ac020fabb93d",
   "metadata": {},
   "source": [
    "**Negatively correlated features.** Treshold for negatively correlated features choosen to be valid for moderately strong correlations. Base line for lower than -0.7 treshold doesn't apply for this data."
   ]
  },
  {
   "cell_type": "markdown",
   "id": "dd6add7a-9744-4f4b-8319-1bee3686eff0",
   "metadata": {},
   "source": [
    "**Not Correlated features.** Selected treshold (-0.1:0.1) results in many features with no correlation. Although correlation is near 0 it doesn't necessarily mean there's no relationship between variables. Near zero correlation indicates there are no linear relationship between some features. Further study needs to be done to properly evalute statistical significance and possible realtionships."
   ]
  },
  {
   "cell_type": "code",
   "execution_count": 25,
   "id": "c2cfe357-6d89-4f7a-9253-ffbfacda70d8",
   "metadata": {},
   "outputs": [
    {
     "name": "stdout",
     "output_type": "stream",
     "text": [
      "Not correlated numeric features in TOP 50 Spotify Tracks 2020\n"
     ]
    },
    {
     "data": {
      "text/html": [
       "<style type=\"text/css\">\n",
       "</style>\n",
       "<table id=\"T_05f2d\">\n",
       "  <thead>\n",
       "    <tr>\n",
       "      <th class=\"blank level0\" >&nbsp;</th>\n",
       "      <th id=\"T_05f2d_level0_col0\" class=\"col_heading level0 col0\" >energy</th>\n",
       "      <th id=\"T_05f2d_level0_col1\" class=\"col_heading level0 col1\" >danceability</th>\n",
       "      <th id=\"T_05f2d_level0_col2\" class=\"col_heading level0 col2\" >key</th>\n",
       "      <th id=\"T_05f2d_level0_col3\" class=\"col_heading level0 col3\" >loudness</th>\n",
       "      <th id=\"T_05f2d_level0_col4\" class=\"col_heading level0 col4\" >acousticness</th>\n",
       "      <th id=\"T_05f2d_level0_col5\" class=\"col_heading level0 col5\" >speechiness</th>\n",
       "      <th id=\"T_05f2d_level0_col6\" class=\"col_heading level0 col6\" >instrumentalness</th>\n",
       "      <th id=\"T_05f2d_level0_col7\" class=\"col_heading level0 col7\" >liveness</th>\n",
       "      <th id=\"T_05f2d_level0_col8\" class=\"col_heading level0 col8\" >valence</th>\n",
       "      <th id=\"T_05f2d_level0_col9\" class=\"col_heading level0 col9\" >tempo</th>\n",
       "      <th id=\"T_05f2d_level0_col10\" class=\"col_heading level0 col10\" >duration_ms</th>\n",
       "    </tr>\n",
       "  </thead>\n",
       "  <tbody>\n",
       "    <tr>\n",
       "      <th id=\"T_05f2d_level0_row0\" class=\"row_heading level0 row0\" >energy</th>\n",
       "      <td id=\"T_05f2d_row0_col0\" class=\"data row0 col0\" ></td>\n",
       "      <td id=\"T_05f2d_row0_col1\" class=\"data row0 col1\" ></td>\n",
       "      <td id=\"T_05f2d_row0_col2\" class=\"data row0 col2\" >0.062428</td>\n",
       "      <td id=\"T_05f2d_row0_col3\" class=\"data row0 col3\" ></td>\n",
       "      <td id=\"T_05f2d_row0_col4\" class=\"data row0 col4\" ></td>\n",
       "      <td id=\"T_05f2d_row0_col5\" class=\"data row0 col5\" >0.074267</td>\n",
       "      <td id=\"T_05f2d_row0_col6\" class=\"data row0 col6\" ></td>\n",
       "      <td id=\"T_05f2d_row0_col7\" class=\"data row0 col7\" >0.069487</td>\n",
       "      <td id=\"T_05f2d_row0_col8\" class=\"data row0 col8\" ></td>\n",
       "      <td id=\"T_05f2d_row0_col9\" class=\"data row0 col9\" >0.075191</td>\n",
       "      <td id=\"T_05f2d_row0_col10\" class=\"data row0 col10\" >0.081971</td>\n",
       "    </tr>\n",
       "    <tr>\n",
       "      <th id=\"T_05f2d_level0_row1\" class=\"row_heading level0 row1\" >danceability</th>\n",
       "      <td id=\"T_05f2d_row1_col0\" class=\"data row1 col0\" ></td>\n",
       "      <td id=\"T_05f2d_row1_col1\" class=\"data row1 col1\" ></td>\n",
       "      <td id=\"T_05f2d_row1_col2\" class=\"data row1 col2\" ></td>\n",
       "      <td id=\"T_05f2d_row1_col3\" class=\"data row1 col3\" ></td>\n",
       "      <td id=\"T_05f2d_row1_col4\" class=\"data row1 col4\" ></td>\n",
       "      <td id=\"T_05f2d_row1_col5\" class=\"data row1 col5\" ></td>\n",
       "      <td id=\"T_05f2d_row1_col6\" class=\"data row1 col6\" >-0.017706</td>\n",
       "      <td id=\"T_05f2d_row1_col7\" class=\"data row1 col7\" >-0.006648</td>\n",
       "      <td id=\"T_05f2d_row1_col8\" class=\"data row1 col8\" ></td>\n",
       "      <td id=\"T_05f2d_row1_col9\" class=\"data row1 col9\" ></td>\n",
       "      <td id=\"T_05f2d_row1_col10\" class=\"data row1 col10\" >-0.033763</td>\n",
       "    </tr>\n",
       "    <tr>\n",
       "      <th id=\"T_05f2d_level0_row2\" class=\"row_heading level0 row2\" >key</th>\n",
       "      <td id=\"T_05f2d_row2_col0\" class=\"data row2 col0\" ></td>\n",
       "      <td id=\"T_05f2d_row2_col1\" class=\"data row2 col1\" ></td>\n",
       "      <td id=\"T_05f2d_row2_col2\" class=\"data row2 col2\" ></td>\n",
       "      <td id=\"T_05f2d_row2_col3\" class=\"data row2 col3\" >-0.009178</td>\n",
       "      <td id=\"T_05f2d_row2_col4\" class=\"data row2 col4\" ></td>\n",
       "      <td id=\"T_05f2d_row2_col5\" class=\"data row2 col5\" >-0.094965</td>\n",
       "      <td id=\"T_05f2d_row2_col6\" class=\"data row2 col6\" >0.020802</td>\n",
       "      <td id=\"T_05f2d_row2_col7\" class=\"data row2 col7\" ></td>\n",
       "      <td id=\"T_05f2d_row2_col8\" class=\"data row2 col8\" ></td>\n",
       "      <td id=\"T_05f2d_row2_col9\" class=\"data row2 col9\" >0.080475</td>\n",
       "      <td id=\"T_05f2d_row2_col10\" class=\"data row2 col10\" >-0.003345</td>\n",
       "    </tr>\n",
       "    <tr>\n",
       "      <th id=\"T_05f2d_level0_row3\" class=\"row_heading level0 row3\" >loudness</th>\n",
       "      <td id=\"T_05f2d_row3_col0\" class=\"data row3 col0\" ></td>\n",
       "      <td id=\"T_05f2d_row3_col1\" class=\"data row3 col1\" ></td>\n",
       "      <td id=\"T_05f2d_row3_col2\" class=\"data row3 col2\" ></td>\n",
       "      <td id=\"T_05f2d_row3_col3\" class=\"data row3 col3\" ></td>\n",
       "      <td id=\"T_05f2d_row3_col4\" class=\"data row3 col4\" ></td>\n",
       "      <td id=\"T_05f2d_row3_col5\" class=\"data row3 col5\" >-0.021693</td>\n",
       "      <td id=\"T_05f2d_row3_col6\" class=\"data row3 col6\" ></td>\n",
       "      <td id=\"T_05f2d_row3_col7\" class=\"data row3 col7\" >-0.069939</td>\n",
       "      <td id=\"T_05f2d_row3_col8\" class=\"data row3 col8\" ></td>\n",
       "      <td id=\"T_05f2d_row3_col9\" class=\"data row3 col9\" ></td>\n",
       "      <td id=\"T_05f2d_row3_col10\" class=\"data row3 col10\" >0.064130</td>\n",
       "    </tr>\n",
       "    <tr>\n",
       "      <th id=\"T_05f2d_level0_row4\" class=\"row_heading level0 row4\" >acousticness</th>\n",
       "      <td id=\"T_05f2d_row4_col0\" class=\"data row4 col0\" ></td>\n",
       "      <td id=\"T_05f2d_row4_col1\" class=\"data row4 col1\" ></td>\n",
       "      <td id=\"T_05f2d_row4_col2\" class=\"data row4 col2\" ></td>\n",
       "      <td id=\"T_05f2d_row4_col3\" class=\"data row4 col3\" ></td>\n",
       "      <td id=\"T_05f2d_row4_col4\" class=\"data row4 col4\" ></td>\n",
       "      <td id=\"T_05f2d_row4_col5\" class=\"data row4 col5\" ></td>\n",
       "      <td id=\"T_05f2d_row4_col6\" class=\"data row4 col6\" ></td>\n",
       "      <td id=\"T_05f2d_row4_col7\" class=\"data row4 col7\" ></td>\n",
       "      <td id=\"T_05f2d_row4_col8\" class=\"data row4 col8\" ></td>\n",
       "      <td id=\"T_05f2d_row4_col9\" class=\"data row4 col9\" ></td>\n",
       "      <td id=\"T_05f2d_row4_col10\" class=\"data row4 col10\" >-0.010988</td>\n",
       "    </tr>\n",
       "    <tr>\n",
       "      <th id=\"T_05f2d_level0_row5\" class=\"row_heading level0 row5\" >speechiness</th>\n",
       "      <td id=\"T_05f2d_row5_col0\" class=\"data row5 col0\" ></td>\n",
       "      <td id=\"T_05f2d_row5_col1\" class=\"data row5 col1\" ></td>\n",
       "      <td id=\"T_05f2d_row5_col2\" class=\"data row5 col2\" ></td>\n",
       "      <td id=\"T_05f2d_row5_col3\" class=\"data row5 col3\" ></td>\n",
       "      <td id=\"T_05f2d_row5_col4\" class=\"data row5 col4\" ></td>\n",
       "      <td id=\"T_05f2d_row5_col5\" class=\"data row5 col5\" ></td>\n",
       "      <td id=\"T_05f2d_row5_col6\" class=\"data row5 col6\" >0.028948</td>\n",
       "      <td id=\"T_05f2d_row5_col7\" class=\"data row5 col7\" ></td>\n",
       "      <td id=\"T_05f2d_row5_col8\" class=\"data row5 col8\" >0.053867</td>\n",
       "      <td id=\"T_05f2d_row5_col9\" class=\"data row5 col9\" ></td>\n",
       "      <td id=\"T_05f2d_row5_col10\" class=\"data row5 col10\" ></td>\n",
       "    </tr>\n",
       "    <tr>\n",
       "      <th id=\"T_05f2d_level0_row6\" class=\"row_heading level0 row6\" >instrumentalness</th>\n",
       "      <td id=\"T_05f2d_row6_col0\" class=\"data row6 col0\" ></td>\n",
       "      <td id=\"T_05f2d_row6_col1\" class=\"data row6 col1\" ></td>\n",
       "      <td id=\"T_05f2d_row6_col2\" class=\"data row6 col2\" ></td>\n",
       "      <td id=\"T_05f2d_row6_col3\" class=\"data row6 col3\" ></td>\n",
       "      <td id=\"T_05f2d_row6_col4\" class=\"data row6 col4\" ></td>\n",
       "      <td id=\"T_05f2d_row6_col5\" class=\"data row6 col5\" ></td>\n",
       "      <td id=\"T_05f2d_row6_col6\" class=\"data row6 col6\" ></td>\n",
       "      <td id=\"T_05f2d_row6_col7\" class=\"data row6 col7\" >-0.087034</td>\n",
       "      <td id=\"T_05f2d_row6_col8\" class=\"data row6 col8\" ></td>\n",
       "      <td id=\"T_05f2d_row6_col9\" class=\"data row6 col9\" >0.018853</td>\n",
       "      <td id=\"T_05f2d_row6_col10\" class=\"data row6 col10\" ></td>\n",
       "    </tr>\n",
       "    <tr>\n",
       "      <th id=\"T_05f2d_level0_row7\" class=\"row_heading level0 row7\" >liveness</th>\n",
       "      <td id=\"T_05f2d_row7_col0\" class=\"data row7 col0\" ></td>\n",
       "      <td id=\"T_05f2d_row7_col1\" class=\"data row7 col1\" ></td>\n",
       "      <td id=\"T_05f2d_row7_col2\" class=\"data row7 col2\" ></td>\n",
       "      <td id=\"T_05f2d_row7_col3\" class=\"data row7 col3\" ></td>\n",
       "      <td id=\"T_05f2d_row7_col4\" class=\"data row7 col4\" ></td>\n",
       "      <td id=\"T_05f2d_row7_col5\" class=\"data row7 col5\" ></td>\n",
       "      <td id=\"T_05f2d_row7_col6\" class=\"data row7 col6\" ></td>\n",
       "      <td id=\"T_05f2d_row7_col7\" class=\"data row7 col7\" ></td>\n",
       "      <td id=\"T_05f2d_row7_col8\" class=\"data row7 col8\" >-0.033366</td>\n",
       "      <td id=\"T_05f2d_row7_col9\" class=\"data row7 col9\" >0.025457</td>\n",
       "      <td id=\"T_05f2d_row7_col10\" class=\"data row7 col10\" >-0.090188</td>\n",
       "    </tr>\n",
       "    <tr>\n",
       "      <th id=\"T_05f2d_level0_row8\" class=\"row_heading level0 row8\" >valence</th>\n",
       "      <td id=\"T_05f2d_row8_col0\" class=\"data row8 col0\" ></td>\n",
       "      <td id=\"T_05f2d_row8_col1\" class=\"data row8 col1\" ></td>\n",
       "      <td id=\"T_05f2d_row8_col2\" class=\"data row8 col2\" ></td>\n",
       "      <td id=\"T_05f2d_row8_col3\" class=\"data row8 col3\" ></td>\n",
       "      <td id=\"T_05f2d_row8_col4\" class=\"data row8 col4\" ></td>\n",
       "      <td id=\"T_05f2d_row8_col5\" class=\"data row8 col5\" ></td>\n",
       "      <td id=\"T_05f2d_row8_col6\" class=\"data row8 col6\" ></td>\n",
       "      <td id=\"T_05f2d_row8_col7\" class=\"data row8 col7\" ></td>\n",
       "      <td id=\"T_05f2d_row8_col8\" class=\"data row8 col8\" ></td>\n",
       "      <td id=\"T_05f2d_row8_col9\" class=\"data row8 col9\" >0.045089</td>\n",
       "      <td id=\"T_05f2d_row8_col10\" class=\"data row8 col10\" >-0.039794</td>\n",
       "    </tr>\n",
       "    <tr>\n",
       "      <th id=\"T_05f2d_level0_row9\" class=\"row_heading level0 row9\" >tempo</th>\n",
       "      <td id=\"T_05f2d_row9_col0\" class=\"data row9 col0\" ></td>\n",
       "      <td id=\"T_05f2d_row9_col1\" class=\"data row9 col1\" ></td>\n",
       "      <td id=\"T_05f2d_row9_col2\" class=\"data row9 col2\" ></td>\n",
       "      <td id=\"T_05f2d_row9_col3\" class=\"data row9 col3\" ></td>\n",
       "      <td id=\"T_05f2d_row9_col4\" class=\"data row9 col4\" ></td>\n",
       "      <td id=\"T_05f2d_row9_col5\" class=\"data row9 col5\" ></td>\n",
       "      <td id=\"T_05f2d_row9_col6\" class=\"data row9 col6\" ></td>\n",
       "      <td id=\"T_05f2d_row9_col7\" class=\"data row9 col7\" ></td>\n",
       "      <td id=\"T_05f2d_row9_col8\" class=\"data row9 col8\" ></td>\n",
       "      <td id=\"T_05f2d_row9_col9\" class=\"data row9 col9\" ></td>\n",
       "      <td id=\"T_05f2d_row9_col10\" class=\"data row9 col10\" ></td>\n",
       "    </tr>\n",
       "    <tr>\n",
       "      <th id=\"T_05f2d_level0_row10\" class=\"row_heading level0 row10\" >duration_ms</th>\n",
       "      <td id=\"T_05f2d_row10_col0\" class=\"data row10 col0\" ></td>\n",
       "      <td id=\"T_05f2d_row10_col1\" class=\"data row10 col1\" ></td>\n",
       "      <td id=\"T_05f2d_row10_col2\" class=\"data row10 col2\" ></td>\n",
       "      <td id=\"T_05f2d_row10_col3\" class=\"data row10 col3\" ></td>\n",
       "      <td id=\"T_05f2d_row10_col4\" class=\"data row10 col4\" ></td>\n",
       "      <td id=\"T_05f2d_row10_col5\" class=\"data row10 col5\" ></td>\n",
       "      <td id=\"T_05f2d_row10_col6\" class=\"data row10 col6\" ></td>\n",
       "      <td id=\"T_05f2d_row10_col7\" class=\"data row10 col7\" ></td>\n",
       "      <td id=\"T_05f2d_row10_col8\" class=\"data row10 col8\" ></td>\n",
       "      <td id=\"T_05f2d_row10_col9\" class=\"data row10 col9\" ></td>\n",
       "      <td id=\"T_05f2d_row10_col10\" class=\"data row10 col10\" ></td>\n",
       "    </tr>\n",
       "  </tbody>\n",
       "</table>\n"
      ],
      "text/plain": [
       "<pandas.io.formats.style.Styler at 0x1eecae79450>"
      ]
     },
     "execution_count": 25,
     "metadata": {},
     "output_type": "execute_result"
    }
   ],
   "source": [
    "# 21. Which features are not correlated?\n",
    "treshold_lower = -0.1\n",
    "treshold_upper = 0.1\n",
    "numeric_columns = df.select_dtypes(include=['number'])\n",
    "matrix = numeric_columns.corr()\n",
    "matrix.head()\n",
    "no_correlations = matrix.where(~np.tril(np.ones(matrix.shape)).astype(bool))\n",
    "no_correlations = no_correlations[(no_correlations < treshold_upper) & (no_correlations > treshold_lower) ]\n",
    "\n",
    "print(\"Not correlated numeric features in TOP 50 Spotify Tracks 2020\")\n",
    "# print in a formatted table excluding NaN values that do not met selected treshold\n",
    "no_correlations.style.format(na_rep='')  "
   ]
  },
  {
   "cell_type": "markdown",
   "id": "a11df84f-80ec-4cc0-bed2-661ff977e037",
   "metadata": {},
   "source": [
    "<h3>Section 3. Feature comparisson with different genres</h3>"
   ]
  },
  {
   "cell_type": "markdown",
   "id": "86430543-320c-47c9-971e-429af5663faa",
   "metadata": {},
   "source": [
    "How does the Danceability score compare between Pop, Hip-Hop/Rap, Dance/Electronic, and Alternative/Indie genres?"
   ]
  },
  {
   "cell_type": "code",
   "execution_count": 26,
   "id": "a618070e-9fdb-4733-a15d-ce2fa5aaa8dd",
   "metadata": {},
   "outputs": [
    {
     "name": "stdout",
     "output_type": "stream",
     "text": [
      "Danceability comparisson main statistics\n"
     ]
    },
    {
     "data": {
      "text/html": [
       "<style type=\"text/css\">\n",
       "</style>\n",
       "<table id=\"T_acc27\">\n",
       "  <thead>\n",
       "    <tr>\n",
       "      <th class=\"blank level0\" >&nbsp;</th>\n",
       "      <th id=\"T_acc27_level0_col0\" class=\"col_heading level0 col0\" >count</th>\n",
       "      <th id=\"T_acc27_level0_col1\" class=\"col_heading level0 col1\" >mean</th>\n",
       "      <th id=\"T_acc27_level0_col2\" class=\"col_heading level0 col2\" >std</th>\n",
       "      <th id=\"T_acc27_level0_col3\" class=\"col_heading level0 col3\" >min</th>\n",
       "      <th id=\"T_acc27_level0_col4\" class=\"col_heading level0 col4\" >25%</th>\n",
       "      <th id=\"T_acc27_level0_col5\" class=\"col_heading level0 col5\" >50%</th>\n",
       "      <th id=\"T_acc27_level0_col6\" class=\"col_heading level0 col6\" >75%</th>\n",
       "      <th id=\"T_acc27_level0_col7\" class=\"col_heading level0 col7\" >max</th>\n",
       "    </tr>\n",
       "    <tr>\n",
       "      <th class=\"index_name level0\" >genre</th>\n",
       "      <th class=\"blank col0\" >&nbsp;</th>\n",
       "      <th class=\"blank col1\" >&nbsp;</th>\n",
       "      <th class=\"blank col2\" >&nbsp;</th>\n",
       "      <th class=\"blank col3\" >&nbsp;</th>\n",
       "      <th class=\"blank col4\" >&nbsp;</th>\n",
       "      <th class=\"blank col5\" >&nbsp;</th>\n",
       "      <th class=\"blank col6\" >&nbsp;</th>\n",
       "      <th class=\"blank col7\" >&nbsp;</th>\n",
       "    </tr>\n",
       "  </thead>\n",
       "  <tbody>\n",
       "    <tr>\n",
       "      <th id=\"T_acc27_level0_row0\" class=\"row_heading level0 row0\" >Alternative/Indie</th>\n",
       "      <td id=\"T_acc27_row0_col0\" class=\"data row0 col0\" >4.00</td>\n",
       "      <td id=\"T_acc27_row0_col1\" class=\"data row0 col1\" >0.66</td>\n",
       "      <td id=\"T_acc27_row0_col2\" class=\"data row0 col2\" >0.21</td>\n",
       "      <td id=\"T_acc27_row0_col3\" class=\"data row0 col3\" >0.46</td>\n",
       "      <td id=\"T_acc27_row0_col4\" class=\"data row0 col4\" >0.49</td>\n",
       "      <td id=\"T_acc27_row0_col5\" class=\"data row0 col5\" >0.66</td>\n",
       "      <td id=\"T_acc27_row0_col6\" class=\"data row0 col6\" >0.83</td>\n",
       "      <td id=\"T_acc27_row0_col7\" class=\"data row0 col7\" >0.86</td>\n",
       "    </tr>\n",
       "    <tr>\n",
       "      <th id=\"T_acc27_level0_row1\" class=\"row_heading level0 row1\" >Dance/Electronic</th>\n",
       "      <td id=\"T_acc27_row1_col0\" class=\"data row1 col0\" >5.00</td>\n",
       "      <td id=\"T_acc27_row1_col1\" class=\"data row1 col1\" >0.76</td>\n",
       "      <td id=\"T_acc27_row1_col2\" class=\"data row1 col2\" >0.09</td>\n",
       "      <td id=\"T_acc27_row1_col3\" class=\"data row1 col3\" >0.65</td>\n",
       "      <td id=\"T_acc27_row1_col4\" class=\"data row1 col4\" >0.67</td>\n",
       "      <td id=\"T_acc27_row1_col5\" class=\"data row1 col5\" >0.79</td>\n",
       "      <td id=\"T_acc27_row1_col6\" class=\"data row1 col6\" >0.79</td>\n",
       "      <td id=\"T_acc27_row1_col7\" class=\"data row1 col7\" >0.88</td>\n",
       "    </tr>\n",
       "    <tr>\n",
       "      <th id=\"T_acc27_level0_row2\" class=\"row_heading level0 row2\" >Hip-Hop/Rap</th>\n",
       "      <td id=\"T_acc27_row2_col0\" class=\"data row2 col0\" >13.00</td>\n",
       "      <td id=\"T_acc27_row2_col1\" class=\"data row2 col1\" >0.77</td>\n",
       "      <td id=\"T_acc27_row2_col2\" class=\"data row2 col2\" >0.09</td>\n",
       "      <td id=\"T_acc27_row2_col3\" class=\"data row2 col3\" >0.60</td>\n",
       "      <td id=\"T_acc27_row2_col4\" class=\"data row2 col4\" >0.73</td>\n",
       "      <td id=\"T_acc27_row2_col5\" class=\"data row2 col5\" >0.77</td>\n",
       "      <td id=\"T_acc27_row2_col6\" class=\"data row2 col6\" >0.83</td>\n",
       "      <td id=\"T_acc27_row2_col7\" class=\"data row2 col7\" >0.90</td>\n",
       "    </tr>\n",
       "    <tr>\n",
       "      <th id=\"T_acc27_level0_row3\" class=\"row_heading level0 row3\" >Pop</th>\n",
       "      <td id=\"T_acc27_row3_col0\" class=\"data row3 col0\" >14.00</td>\n",
       "      <td id=\"T_acc27_row3_col1\" class=\"data row3 col1\" >0.68</td>\n",
       "      <td id=\"T_acc27_row3_col2\" class=\"data row3 col2\" >0.11</td>\n",
       "      <td id=\"T_acc27_row3_col3\" class=\"data row3 col3\" >0.46</td>\n",
       "      <td id=\"T_acc27_row3_col4\" class=\"data row3 col4\" >0.62</td>\n",
       "      <td id=\"T_acc27_row3_col5\" class=\"data row3 col5\" >0.69</td>\n",
       "      <td id=\"T_acc27_row3_col6\" class=\"data row3 col6\" >0.76</td>\n",
       "      <td id=\"T_acc27_row3_col7\" class=\"data row3 col7\" >0.81</td>\n",
       "    </tr>\n",
       "  </tbody>\n",
       "</table>\n"
      ],
      "text/plain": [
       "<pandas.io.formats.style.Styler at 0x1eecae03110>"
      ]
     },
     "execution_count": 26,
     "metadata": {},
     "output_type": "execute_result"
    }
   ],
   "source": [
    "#How does the danceability score compare between Pop, Hip-Hop/Rap, Dance/Electronic, and Alternative/Indie genres?\n",
    "genre_names = ['Pop', 'Hip-Hop/Rap', 'Dance/Electronic', 'Alternative/Indie']\n",
    "feature_name = 'danceability'\n",
    "\n",
    "filtered_df = df[df['genre'].isin(genre_names)]\n",
    "genre_stats = filtered_df.groupby('genre')[feature_name].describe()\n",
    "print(\"Danceability comparisson main statistics\")\n",
    "genre_stats.style.format(precision=2)"
   ]
  },
  {
   "cell_type": "markdown",
   "id": "d8521a99-0243-4480-86fa-7cee1637d6ff",
   "metadata": {},
   "source": [
    "**Danceability comparisson**\n",
    "\n",
    "Danceability distribution between Pop, Hip-Hop/Rap, Dance/Electronic, and Alternative/Indie genres are in relatively small range (0.66 - 0.78). This suggest that there might not be a signicant difference in overall user preference between these genres. \n",
    "Hip-Hop/Rap adm Dance/Electronic has highest average ratings(0.765 and 0.755) in danceablity. This could indicate a slight preference to dance music choices. However it is a small difference in averages and not enough data to draw strong conclusions. It's important to consider the limitations of the data. With only 4 and 5 samples for Alternative/Indie and Dance/Electronic respectively conclusions may not be correctly evaluated."
   ]
  },
  {
   "cell_type": "markdown",
   "id": "c34083a6-e40b-4c1d-b19e-a1a2f7d6a904",
   "metadata": {},
   "source": [
    "How does the loudness score compare between Pop, Hip-Hop/Rap, Dance/Electronic, and Alternative/Indie genres?"
   ]
  },
  {
   "cell_type": "code",
   "execution_count": 27,
   "id": "28fbe5bf-4f05-4d17-8e04-7f71c11931b1",
   "metadata": {},
   "outputs": [
    {
     "name": "stdout",
     "output_type": "stream",
     "text": [
      "Loudness comparisson main statistics\n"
     ]
    },
    {
     "data": {
      "text/html": [
       "<style type=\"text/css\">\n",
       "</style>\n",
       "<table id=\"T_93f36\">\n",
       "  <thead>\n",
       "    <tr>\n",
       "      <th class=\"blank level0\" >&nbsp;</th>\n",
       "      <th id=\"T_93f36_level0_col0\" class=\"col_heading level0 col0\" >count</th>\n",
       "      <th id=\"T_93f36_level0_col1\" class=\"col_heading level0 col1\" >mean</th>\n",
       "      <th id=\"T_93f36_level0_col2\" class=\"col_heading level0 col2\" >std</th>\n",
       "      <th id=\"T_93f36_level0_col3\" class=\"col_heading level0 col3\" >min</th>\n",
       "      <th id=\"T_93f36_level0_col4\" class=\"col_heading level0 col4\" >25%</th>\n",
       "      <th id=\"T_93f36_level0_col5\" class=\"col_heading level0 col5\" >50%</th>\n",
       "      <th id=\"T_93f36_level0_col6\" class=\"col_heading level0 col6\" >75%</th>\n",
       "      <th id=\"T_93f36_level0_col7\" class=\"col_heading level0 col7\" >max</th>\n",
       "    </tr>\n",
       "    <tr>\n",
       "      <th class=\"index_name level0\" >genre</th>\n",
       "      <th class=\"blank col0\" >&nbsp;</th>\n",
       "      <th class=\"blank col1\" >&nbsp;</th>\n",
       "      <th class=\"blank col2\" >&nbsp;</th>\n",
       "      <th class=\"blank col3\" >&nbsp;</th>\n",
       "      <th class=\"blank col4\" >&nbsp;</th>\n",
       "      <th class=\"blank col5\" >&nbsp;</th>\n",
       "      <th class=\"blank col6\" >&nbsp;</th>\n",
       "      <th class=\"blank col7\" >&nbsp;</th>\n",
       "    </tr>\n",
       "  </thead>\n",
       "  <tbody>\n",
       "    <tr>\n",
       "      <th id=\"T_93f36_level0_row0\" class=\"row_heading level0 row0\" >Alternative/Indie</th>\n",
       "      <td id=\"T_93f36_row0_col0\" class=\"data row0 col0\" >4.00</td>\n",
       "      <td id=\"T_93f36_row0_col1\" class=\"data row0 col1\" >-5.42</td>\n",
       "      <td id=\"T_93f36_row0_col2\" class=\"data row0 col2\" >0.77</td>\n",
       "      <td id=\"T_93f36_row0_col3\" class=\"data row0 col3\" >-6.40</td>\n",
       "      <td id=\"T_93f36_row0_col4\" class=\"data row0 col4\" >-5.86</td>\n",
       "      <td id=\"T_93f36_row0_col5\" class=\"data row0 col5\" >-5.27</td>\n",
       "      <td id=\"T_93f36_row0_col6\" class=\"data row0 col6\" >-4.83</td>\n",
       "      <td id=\"T_93f36_row0_col7\" class=\"data row0 col7\" >-4.75</td>\n",
       "    </tr>\n",
       "    <tr>\n",
       "      <th id=\"T_93f36_level0_row1\" class=\"row_heading level0 row1\" >Dance/Electronic</th>\n",
       "      <td id=\"T_93f36_row1_col0\" class=\"data row1 col0\" >5.00</td>\n",
       "      <td id=\"T_93f36_row1_col1\" class=\"data row1 col1\" >-5.34</td>\n",
       "      <td id=\"T_93f36_row1_col2\" class=\"data row1 col2\" >1.48</td>\n",
       "      <td id=\"T_93f36_row1_col3\" class=\"data row1 col3\" >-7.57</td>\n",
       "      <td id=\"T_93f36_row1_col4\" class=\"data row1 col4\" >-5.65</td>\n",
       "      <td id=\"T_93f36_row1_col5\" class=\"data row1 col5\" >-5.46</td>\n",
       "      <td id=\"T_93f36_row1_col6\" class=\"data row1 col6\" >-4.26</td>\n",
       "      <td id=\"T_93f36_row1_col7\" class=\"data row1 col7\" >-3.76</td>\n",
       "    </tr>\n",
       "    <tr>\n",
       "      <th id=\"T_93f36_level0_row2\" class=\"row_heading level0 row2\" >Hip-Hop/Rap</th>\n",
       "      <td id=\"T_93f36_row2_col0\" class=\"data row2 col0\" >13.00</td>\n",
       "      <td id=\"T_93f36_row2_col1\" class=\"data row2 col1\" >-6.92</td>\n",
       "      <td id=\"T_93f36_row2_col2\" class=\"data row2 col2\" >1.89</td>\n",
       "      <td id=\"T_93f36_row2_col3\" class=\"data row2 col3\" >-8.82</td>\n",
       "      <td id=\"T_93f36_row2_col4\" class=\"data row2 col4\" >-8.52</td>\n",
       "      <td id=\"T_93f36_row2_col5\" class=\"data row2 col5\" >-7.65</td>\n",
       "      <td id=\"T_93f36_row2_col6\" class=\"data row2 col6\" >-5.62</td>\n",
       "      <td id=\"T_93f36_row2_col7\" class=\"data row2 col7\" >-3.37</td>\n",
       "    </tr>\n",
       "    <tr>\n",
       "      <th id=\"T_93f36_level0_row3\" class=\"row_heading level0 row3\" >Pop</th>\n",
       "      <td id=\"T_93f36_row3_col0\" class=\"data row3 col0\" >14.00</td>\n",
       "      <td id=\"T_93f36_row3_col1\" class=\"data row3 col1\" >-6.46</td>\n",
       "      <td id=\"T_93f36_row3_col2\" class=\"data row3 col2\" >3.01</td>\n",
       "      <td id=\"T_93f36_row3_col3\" class=\"data row3 col3\" >-14.45</td>\n",
       "      <td id=\"T_93f36_row3_col4\" class=\"data row3 col4\" >-7.18</td>\n",
       "      <td id=\"T_93f36_row3_col5\" class=\"data row3 col5\" >-6.64</td>\n",
       "      <td id=\"T_93f36_row3_col6\" class=\"data row3 col6\" >-3.88</td>\n",
       "      <td id=\"T_93f36_row3_col7\" class=\"data row3 col7\" >-3.28</td>\n",
       "    </tr>\n",
       "  </tbody>\n",
       "</table>\n"
      ],
      "text/plain": [
       "<pandas.io.formats.style.Styler at 0x1eec8fa9610>"
      ]
     },
     "execution_count": 27,
     "metadata": {},
     "output_type": "execute_result"
    }
   ],
   "source": [
    "#How does the loudness score compare between Pop, Hip-Hop/Rap, Dance/Electronic, and Alternative/Indie genres?\n",
    "genre_names = ['Pop', 'Hip-Hop/Rap', 'Dance/Electronic', 'Alternative/Indie']\n",
    "feature_name = 'loudness'\n",
    "\n",
    "filtered_df = df[df['genre'].isin(genre_names)]\n",
    "genre_stats = filtered_df.groupby('genre')[feature_name].describe()\n",
    "print(\"Loudness comparisson main statistics\")\n",
    "genre_stats.style.format(precision=2)"
   ]
  },
  {
   "cell_type": "markdown",
   "id": "822e2330-13f4-4bf2-8366-a8241178adaf",
   "metadata": {},
   "source": [
    "**Loudness comparisson**\n",
    "\n",
    "Loudness measured in decibels(dB) in negative values.\n",
    "Important to consider the sample size. 2 of 4 features has 5 or less features and remaining has 13 and 14. Comparing max values there are similar values for all genres. Altough the lowest min value is around double lower for POP genre. For correct approach deeper investigation in the usage of dB or dBSPL(Sound pressure Lever)."
   ]
  },
  {
   "cell_type": "markdown",
   "id": "07f8c0bb-6607-48e6-ae3b-57e2d8264691",
   "metadata": {},
   "source": [
    "How does the acousticness score compare between Pop, Hip-Hop/Rap, Dance/Electronic, and Alternative/Indie genres?"
   ]
  },
  {
   "cell_type": "code",
   "execution_count": 28,
   "id": "d1b68105-6381-4331-a127-11beeb34c06f",
   "metadata": {},
   "outputs": [
    {
     "name": "stdout",
     "output_type": "stream",
     "text": [
      "Acousticness comparisson main statistics\n"
     ]
    },
    {
     "data": {
      "text/html": [
       "<style type=\"text/css\">\n",
       "</style>\n",
       "<table id=\"T_64ada\">\n",
       "  <thead>\n",
       "    <tr>\n",
       "      <th class=\"blank level0\" >&nbsp;</th>\n",
       "      <th id=\"T_64ada_level0_col0\" class=\"col_heading level0 col0\" >count</th>\n",
       "      <th id=\"T_64ada_level0_col1\" class=\"col_heading level0 col1\" >mean</th>\n",
       "      <th id=\"T_64ada_level0_col2\" class=\"col_heading level0 col2\" >std</th>\n",
       "      <th id=\"T_64ada_level0_col3\" class=\"col_heading level0 col3\" >min</th>\n",
       "      <th id=\"T_64ada_level0_col4\" class=\"col_heading level0 col4\" >25%</th>\n",
       "      <th id=\"T_64ada_level0_col5\" class=\"col_heading level0 col5\" >50%</th>\n",
       "      <th id=\"T_64ada_level0_col6\" class=\"col_heading level0 col6\" >75%</th>\n",
       "      <th id=\"T_64ada_level0_col7\" class=\"col_heading level0 col7\" >max</th>\n",
       "    </tr>\n",
       "    <tr>\n",
       "      <th class=\"index_name level0\" >genre</th>\n",
       "      <th class=\"blank col0\" >&nbsp;</th>\n",
       "      <th class=\"blank col1\" >&nbsp;</th>\n",
       "      <th class=\"blank col2\" >&nbsp;</th>\n",
       "      <th class=\"blank col3\" >&nbsp;</th>\n",
       "      <th class=\"blank col4\" >&nbsp;</th>\n",
       "      <th class=\"blank col5\" >&nbsp;</th>\n",
       "      <th class=\"blank col6\" >&nbsp;</th>\n",
       "      <th class=\"blank col7\" >&nbsp;</th>\n",
       "    </tr>\n",
       "  </thead>\n",
       "  <tbody>\n",
       "    <tr>\n",
       "      <th id=\"T_64ada_level0_row0\" class=\"row_heading level0 row0\" >Alternative/Indie</th>\n",
       "      <td id=\"T_64ada_row0_col0\" class=\"data row0 col0\" >4.00</td>\n",
       "      <td id=\"T_64ada_row0_col1\" class=\"data row0 col1\" >0.58</td>\n",
       "      <td id=\"T_64ada_row0_col2\" class=\"data row0 col2\" >0.20</td>\n",
       "      <td id=\"T_64ada_row0_col3\" class=\"data row0 col3\" >0.29</td>\n",
       "      <td id=\"T_64ada_row0_col4\" class=\"data row0 col4\" >0.53</td>\n",
       "      <td id=\"T_64ada_row0_col5\" class=\"data row0 col5\" >0.65</td>\n",
       "      <td id=\"T_64ada_row0_col6\" class=\"data row0 col6\" >0.70</td>\n",
       "      <td id=\"T_64ada_row0_col7\" class=\"data row0 col7\" >0.75</td>\n",
       "    </tr>\n",
       "    <tr>\n",
       "      <th id=\"T_64ada_level0_row1\" class=\"row_heading level0 row1\" >Dance/Electronic</th>\n",
       "      <td id=\"T_64ada_row1_col0\" class=\"data row1 col0\" >5.00</td>\n",
       "      <td id=\"T_64ada_row1_col1\" class=\"data row1 col1\" >0.10</td>\n",
       "      <td id=\"T_64ada_row1_col2\" class=\"data row1 col2\" >0.10</td>\n",
       "      <td id=\"T_64ada_row1_col3\" class=\"data row1 col3\" >0.01</td>\n",
       "      <td id=\"T_64ada_row1_col4\" class=\"data row1 col4\" >0.01</td>\n",
       "      <td id=\"T_64ada_row1_col5\" class=\"data row1 col5\" >0.07</td>\n",
       "      <td id=\"T_64ada_row1_col6\" class=\"data row1 col6\" >0.18</td>\n",
       "      <td id=\"T_64ada_row1_col7\" class=\"data row1 col7\" >0.22</td>\n",
       "    </tr>\n",
       "    <tr>\n",
       "      <th id=\"T_64ada_level0_row2\" class=\"row_heading level0 row2\" >Hip-Hop/Rap</th>\n",
       "      <td id=\"T_64ada_row2_col0\" class=\"data row2 col0\" >13.00</td>\n",
       "      <td id=\"T_64ada_row2_col1\" class=\"data row2 col1\" >0.19</td>\n",
       "      <td id=\"T_64ada_row2_col2\" class=\"data row2 col2\" >0.19</td>\n",
       "      <td id=\"T_64ada_row2_col3\" class=\"data row2 col3\" >0.01</td>\n",
       "      <td id=\"T_64ada_row2_col4\" class=\"data row2 col4\" >0.07</td>\n",
       "      <td id=\"T_64ada_row2_col5\" class=\"data row2 col5\" >0.14</td>\n",
       "      <td id=\"T_64ada_row2_col6\" class=\"data row2 col6\" >0.23</td>\n",
       "      <td id=\"T_64ada_row2_col7\" class=\"data row2 col7\" >0.73</td>\n",
       "    </tr>\n",
       "    <tr>\n",
       "      <th id=\"T_64ada_level0_row3\" class=\"row_heading level0 row3\" >Pop</th>\n",
       "      <td id=\"T_64ada_row3_col0\" class=\"data row3 col0\" >14.00</td>\n",
       "      <td id=\"T_64ada_row3_col1\" class=\"data row3 col1\" >0.32</td>\n",
       "      <td id=\"T_64ada_row3_col2\" class=\"data row3 col2\" >0.32</td>\n",
       "      <td id=\"T_64ada_row3_col3\" class=\"data row3 col3\" >0.02</td>\n",
       "      <td id=\"T_64ada_row3_col4\" class=\"data row3 col4\" >0.06</td>\n",
       "      <td id=\"T_64ada_row3_col5\" class=\"data row3 col5\" >0.26</td>\n",
       "      <td id=\"T_64ada_row3_col6\" class=\"data row3 col6\" >0.35</td>\n",
       "      <td id=\"T_64ada_row3_col7\" class=\"data row3 col7\" >0.90</td>\n",
       "    </tr>\n",
       "  </tbody>\n",
       "</table>\n"
      ],
      "text/plain": [
       "<pandas.io.formats.style.Styler at 0x1eec98ca550>"
      ]
     },
     "execution_count": 28,
     "metadata": {},
     "output_type": "execute_result"
    }
   ],
   "source": [
    "#How does the acousticness score compare between Pop, Hip-Hop/Rap, Dance/Electronic, and Alternative/Indie genres?\n",
    "genre_names = ['Pop', 'Hip-Hop/Rap', 'Dance/Electronic', 'Alternative/Indie']\n",
    "feature_name = 'acousticness'\n",
    "\n",
    "filtered_df = df[df['genre'].isin(genre_names)]\n",
    "genre_stats = filtered_df.groupby('genre')[feature_name].describe()\n",
    "print(\"Acousticness comparisson main statistics\")\n",
    "genre_stats.style.format(precision=2)"
   ]
  },
  {
   "cell_type": "markdown",
   "id": "bb412fb4-a40b-4d34-808d-f167cdee6b85",
   "metadata": {},
   "source": [
    "**Acousticness comparisson**\n",
    "\n",
    "\"Mean\" values is in range (0.1 to.58) suggest different acousticness properties. Higher values for Alternative/Indie genre might indicate more aquistic instruments for example guitars. Lower values as for Dance/Electronic might have more drum machines and synthesizers.\n",
    "\n",
    "\"STD\"(Standard Deviation) lower for Dance/Electronic(0.10) indicating songs to have average acousticness for the genre. Higher deviation for POP(0.32) might show variation between 14 provided songs in the sample. There might be subgenres in the POP genre with some songs having more acoustic elements than others.\n"
   ]
  },
  {
   "cell_type": "markdown",
   "id": "62d96bd4-6bd3-4c8a-9ec2-2d4278e7a806",
   "metadata": {},
   "source": [
    "<h3>Summary</h3>\n",
    "\n",
    "__Insights__\n",
    "1. Data set has 16 features and 50 rows.\n",
    "2. Data set contains numerical and object data value types.\n",
    "3. Most popular artists are Billy Eilish, Dua Lipa and Travis Scoot.\n",
    "4. Most popular album in Spotify TOP 50 track of 2020 was 'Future notalife'\n",
    "5. Longest song 'SICKO ME', shortest song was 'Mood(feat. iann der)\n",
    "6. Highest positive correlation 0.79 is between loudness and energy. More sound equals more energy.\n",
    "7. Highest negative correlation -0.68 is between anergy and acousticness. More different types of instruments in songstends to lower energy levels.\n",
    "8. There are many not correlated features with correlation in (-0.1-0.1). It shows that features doesn't have linear relationship. Further investigation needed about possible relations.\n",
    "9. Comparisson requirements requires bigger data samples for drawing clear conclusions. Sample size of 4, 5, 13 and 14 seems to be not sufficient for correct results. Loudness feature requeres additional investigation in the meaning behind negative values and industry practices.\n",
    "\n",
    "\n",
    "__Suggestions for improvements__\n",
    "1. Bigger data sample.\n",
    "2. Include graphical materials for visualisation(Boxplots, histograms).\n",
    "3. Improve EDA specific questions with more broad analysis more focusing on insightful invvestigation to provide for the product manager that does actual make hit on Spotify. This might also iclude exploring songs that did not actually got to the TOP 50 on 2020."
   ]
  },
  {
   "cell_type": "code",
   "execution_count": null,
   "id": "9bca8c1b-a64e-441c-b4e5-be7d1fa08cc7",
   "metadata": {},
   "outputs": [],
   "source": []
  }
 ],
 "metadata": {
  "kernelspec": {
   "display_name": "Python 3 (ipykernel)",
   "language": "python",
   "name": "python3"
  },
  "language_info": {
   "codemirror_mode": {
    "name": "ipython",
    "version": 3
   },
   "file_extension": ".py",
   "mimetype": "text/x-python",
   "name": "python",
   "nbconvert_exporter": "python",
   "pygments_lexer": "ipython3",
   "version": "3.11.7"
  }
 },
 "nbformat": 4,
 "nbformat_minor": 5
}
